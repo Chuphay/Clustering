{
 "cells": [
  {
   "cell_type": "code",
   "execution_count": 9,
   "metadata": {
    "collapsed": false
   },
   "outputs": [],
   "source": [
    "#See http://www.greenteapress.com/complexity/thinkcomplexity.pdf\n",
    "#for documentation\n",
    "\n",
    "\n",
    "class Vertex(object):\n",
    "    def __init__(self, label = ''):\n",
    "        self.label = label\n",
    "    def __repr__(self):\n",
    "        return \"Vertex({0})\".format(self.label)\n",
    "    #__str__ = __repr__\n",
    "    \n",
    "class Edge(tuple):\n",
    "    def __new__(cls, v1, v2, w = 1):\n",
    "        return tuple.__new__(cls, (v1, v2, w))\n",
    "    def __repr__(self):\n",
    "        #return \"Edge({0}, {1}) with weight {2}\".format(self[0],self[1], self[2])\n",
    "        return \"{0}\".format(self[2])\n",
    "    #__str__ = __repr__\n",
    "    \n",
    "\n",
    "class Graph(dict):   \n",
    "    def __init__(self, vs = [], es = []):       \n",
    "        for v in vs:\n",
    "            self.__add_vertex(v) \n",
    "        \n",
    "        for e in es:\n",
    "            self.__add_edge(e) \n",
    "            \n",
    "        #Build the vertex tree\n",
    "        assert(self.__check_power_2()), \"Not a power of 2\"\n",
    "        self.vertex_tree = vs \n",
    "        \n",
    "        #Build the edge partition tree\n",
    "        self.edge_partition_tree = self.make_e_p_t(vs,vs)\n",
    "            \n",
    "    def __add_vertex(self,v):        \n",
    "        self[v] = {}   \n",
    "        \n",
    "    def __add_edge(self,e):       \n",
    "        v, x, w = e\n",
    "        self[v][x] = e\n",
    "        self[x][v] = e\n",
    "        \n",
    "    def __check_power_2(self):\n",
    "        n = len(self)\n",
    "        check = 1\n",
    "        while True:\n",
    "            if(n == check):\n",
    "                return True\n",
    "            elif(n < check):\n",
    "                return False\n",
    "            else:\n",
    "                check = check << 1   \n",
    "        \n",
    "    #def get_vs_in_group(self, level, group):\n",
    "    #    l = 1 << level\n",
    "    #    n = len(self)\n",
    "    #    size = n//l\n",
    "    #    return self.vertex_tree[group*size : (group+1)*size]\n",
    "    \n",
    "    def get_group_of_v(self, level, vertex):\n",
    "        l = 1 << level\n",
    "        n = len(self)\n",
    "        size = n//l\n",
    "        index = self.vertex_tree.index(vertex)\n",
    "        return (index//size, size)\n",
    "    \n",
    "    def make_edge_node(self, vs, ws):\n",
    "        tree = {\"edges\":[], \"children\":[]} #,\"vs\":vs,\"ws\":ws}\n",
    "        for v in vs:\n",
    "            for w in ws:\n",
    "                edge = self[v].get(w)\n",
    "                if(edge and (edge not in tree[\"edges\"])):\n",
    "                    tree[\"edges\"].append(self[v].get(w))\n",
    "        return tree\n",
    "    \n",
    "    def make_e_p_t(self, vs, ws, level = 0):\n",
    "        \"\"\"Make Edge Partition Tree\"\"\"    \n",
    "        out = self.make_edge_node(vs,ws)\n",
    "        n = len(vs)\n",
    "        if((len(out[\"edges\"]) != 0) and (n>1)):\n",
    "            if(vs == ws):\n",
    "                a = vs[:n//2]\n",
    "                b = vs[n//2:]\n",
    "                out[\"children\"] = [self.make_e_p_t(a,a),self.make_e_p_t(a,b), self.make_e_p_t(b,b)]\n",
    "            else:\n",
    "                a = vs[:n//2]\n",
    "                b = vs[n//2:]\n",
    "                c = ws[:n//2]\n",
    "                d = ws[n//2:]\n",
    "                out[\"children\"] = [self.make_e_p_t(a,c),self.make_e_p_t(a,d),\\\n",
    "                                   self.make_e_p_t(b,c),self.make_e_p_t(b,d)]\n",
    "        return out\n",
    "         "
   ]
  },
  {
   "cell_type": "code",
   "execution_count": 2,
   "metadata": {
    "collapsed": false
   },
   "outputs": [],
   "source": [
    "def hello(self):\n",
    "    assert(self.__check_power_2()), \"Not a power of 2\"\n",
    "    print (\"hello\")\n",
    "Graph.hello = hello"
   ]
  },
  {
   "cell_type": "code",
   "execution_count": 3,
   "metadata": {
    "collapsed": false
   },
   "outputs": [
    {
     "name": "stdout",
     "output_type": "stream",
     "text": [
      "Vertex(x)\n",
      "1\n",
      "{Vertex(x): {Vertex(y): 1}, Vertex(z): {}, Vertex(y): {Vertex(x): 1}, Vertex(a): {}}\n"
     ]
    },
    {
     "data": {
      "text/plain": [
       "{'children': [{'children': [{'children': [], 'edges': []},\n",
       "    {'children': [], 'edges': []},\n",
       "    {'children': [], 'edges': [12]},\n",
       "    {'children': [], 'edges': []}],\n",
       "   'edges': [12]},\n",
       "  {'children': [], 'edges': []},\n",
       "  {'children': [], 'edges': []},\n",
       "  {'children': [], 'edges': []}],\n",
       " 'edges': [12]}"
      ]
     },
     "execution_count": 3,
     "metadata": {},
     "output_type": "execute_result"
    }
   ],
   "source": [
    "x = Vertex(\"x\")\n",
    "y = Vertex(\"y\")\n",
    "z = Vertex(\"z\")\n",
    "a = Vertex(\"a\")\n",
    "b = Vertex(\"b\")\n",
    "c = Vertex(\"c\")\n",
    "d = Vertex(\"d\")\n",
    "e = Vertex(\"e\")\n",
    "f = Vertex(\"f\")\n",
    "g = Vertex(\"g\")\n",
    "h = Vertex(\"h\")\n",
    "i = Vertex(\"i\")\n",
    "j = Vertex(\"j\")\n",
    "k = Vertex(\"k\")\n",
    "l = Vertex(\"l\")\n",
    "m = Vertex(\"m\")\n",
    "n = Vertex(\"n\")\n",
    "o = Vertex(\"o\")\n",
    "p = Vertex(\"p\")\n",
    "\n",
    "e1 = Edge(a,c,4)\n",
    "e2 = Edge(a,d,8)\n",
    "e3 = Edge(b,e,12)\n",
    "e4 = Edge(e,f,18)\n",
    "e5 = Edge(g,h,22)\n",
    "\n",
    "print(x)\n",
    "\n",
    "g3 = Graph([a,b,c,d,e,f,g,h,i,j,k,l,m,n,o,p])\n",
    "#g3.get_vs_in_group(2, 3)  \n",
    "\n",
    "\n",
    "g4 = Graph([a,b,c,d,e,f,g,h],[e1,e2,e3,e4,e5])\n",
    "g4.edge_partition_tree[\"children\"][1]"
   ]
  },
  {
   "cell_type": "code",
   "execution_count": 16,
   "metadata": {
    "collapsed": false
   },
   "outputs": [
    {
     "name": "stdout",
     "output_type": "stream",
     "text": [
      "Adding edge\n",
      "\n",
      "[{'children': [{'children': [], 'edges': []}, {'children': [{'children': [], 'edges': [4]}, {'children': [], 'edges': [8]}, {'children': [], 'edges': []}, {'children': [], 'edges': []}], 'edges': [4, 8]}, {'children': [], 'edges': []}], 'edges': [4, 8]}, {'children': [{'children': [{'children': [], 'edges': []}, {'children': [], 'edges': []}, {'children': [], 'edges': [12]}, {'children': [], 'edges': []}], 'edges': [12]}, {'children': [], 'edges': []}, {'children': [], 'edges': []}, {'children': [], 'edges': []}], 'edges': [12]}, {'children': [{'children': [{'children': [], 'edges': []}, {'children': [], 'edges': [18]}, {'children': [], 'edges': []}], 'edges': [18]}, {'children': [], 'edges': []}, {'children': [], 'edges': []}], 'edges': [18]}]\n",
      "l 1 n 8 1\n",
      "1 1 4 2\n",
      "l 2 n 8 2\n",
      "3 3 2 4\n",
      "l 3 n 8 4\n",
      "6 7 1 8\n",
      "l 4 n 8 8\n"
     ]
    }
   ],
   "source": [
    "e6 = Edge(a,d,5)\n",
    "e7 = Edge(a,g,1)\n",
    "g4._Graph__add_edge(e6)\n",
    "\n",
    "def add_edge(self,e):\n",
    "    v,x,w = e\n",
    "    if(self[v].get(x) == None):\n",
    "        print(\"Adding edge\")\n",
    "        print(\"\")\n",
    "        self.edge_partition_tree['edges'].append(e)\n",
    "        l = 1\n",
    "        level = 1\n",
    "        n = len(self)\n",
    "        size = n//l\n",
    "        current = self.edge_partition_tree['children']\n",
    "        print(current)\n",
    "        current[0]['edges'] = 45\n",
    "        while True:\n",
    "            print(\"l\",l, \"n\",n, level)\n",
    "            if(level>=n):\n",
    "                break\n",
    "            grp1, size = self.get_group_of_v(l,v)\n",
    "            grp2, size = self.get_group_of_v(l,x)\n",
    "            print(grp1,grp2, size, n//size)\n",
    "            if(grp1 == grp2):\n",
    "                pass\n",
    "            else:\n",
    "                pass\n",
    "            l += 1\n",
    "            level = level << 1\n",
    "\n",
    "    else:\n",
    "        print(\"Edge already exists, delete first\")\n",
    "        \n",
    "\n",
    "E1 = Edge(x,y,1)\n",
    "E2 = Edge(y,z,2)\n",
    "E3 = Edge(x,z,3)\n",
    "G = Graph([x,y,z,a],[E1])   \n",
    "G = Graph([x,y,z,a],[E1])\n",
    "#print(G.edge_partition_tree)\n",
    "g4 = Graph([a,b,c,d,e,f,g,h],[e1,e2,e3,e4])\n",
    "#add_edge(G,E2)\n",
    "#G.edge_partition_tree\n",
    "add_edge(g4, e5)"
   ]
  },
  {
   "cell_type": "code",
   "execution_count": null,
   "metadata": {
    "collapsed": true
   },
   "outputs": [],
   "source": []
  }
 ],
 "metadata": {
  "kernelspec": {
   "display_name": "Python 3",
   "language": "python",
   "name": "python3"
  },
  "language_info": {
   "codemirror_mode": {
    "name": "ipython",
    "version": 3
   },
   "file_extension": ".py",
   "mimetype": "text/x-python",
   "name": "python",
   "nbconvert_exporter": "python",
   "pygments_lexer": "ipython3",
   "version": "3.4.1"
  }
 },
 "nbformat": 4,
 "nbformat_minor": 0
}
