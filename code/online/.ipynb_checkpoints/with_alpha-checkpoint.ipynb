{
 "cells": [
  {
   "cell_type": "code",
   "execution_count": 1,
   "metadata": {
    "collapsed": false
   },
   "outputs": [
    {
     "name": "stdout",
     "output_type": "stream",
     "text": [
      "Populating the interactive namespace from numpy and matplotlib\n"
     ]
    }
   ],
   "source": [
    "%pylab inline"
   ]
  },
  {
   "cell_type": "code",
   "execution_count": 22,
   "metadata": {
    "collapsed": false
   },
   "outputs": [
    {
     "data": {
      "image/png": "[encoded data removed]",
      "text/plain": [
       "<matplotlib.figure.Figure at 0xb04815ac>"
      ]
     },
     "metadata": {},
     "output_type": "display_data"
    }
   ],
   "source": [
    "n = 4\n",
    "x = randn(2*n).reshape(n,2)\n",
    "scatter(x[:,0], x[:,1]);"
   ]
  },
  {
   "cell_type": "code",
   "execution_count": 58,
   "metadata": {
    "collapsed": false
   },
   "outputs": [],
   "source": [
    "class Cluster(object):\n",
    "    def __init__(self, nodes, weights, degrees, perimeter = None, area = None):\n",
    "        self.nodes = nodes.astype(float)\n",
    "        self.weights = weights.astype(float)\n",
    "        self.degrees = degrees #this never changes       \n",
    "        if(perimeter == None):\n",
    "            self.perimeter = sum(self.weights)\n",
    "        else:\n",
    "            self.perimeter = perimeter\n",
    "        if(area == None):\n",
    "            self.area = 0\n",
    "        else:\n",
    "            self.area = area\n",
    "        self.parent = None\n",
    "        self.parentId = None\n",
    "            \n",
    "    def get_closest(self):\n",
    "        if(sum(self.nodes) == len(self.nodes)):\n",
    "            raise IndexError\n",
    "        if(sum(self.weights) == 0):\n",
    "            raise IndexError\n",
    "        if (self.parent == None):\n",
    "            temp_perimeter = self.perimeter - 2*self.weights + self.degrees\n",
    "            temp_area = self.area + self.weights \n",
    "            ratios = temp_area / (temp_perimeter + 0.000001)\n",
    "            next_vertex = np.argmax(ratios * np.logical_not(self.nodes))\n",
    "            this_alpha = (self.area*temp_perimeter[next_vertex])/(self.perimeter*temp_area[next_vertex]) \n",
    "            return (next_vertex, temp_area[next_vertex], temp_perimeter[next_vertex], this_alpha)\n",
    "        else:\n",
    "            return self.parent.get_closest()\n",
    "        \n",
    "    def get_alpha(self, other_node):\n",
    "        if(sum(self.nodes) == len(self.nodes)):\n",
    "            raise IndexError\n",
    "        if(sum(self.weights) == 0):\n",
    "            raise IndexError\n",
    "        if (self.parent == None):\n",
    "            temp_perimeter = self.perimeter - 2*self.weights[other_node] + self.degrees[other_node]\n",
    "            temp_area = self.area + self.weights[other_node] \n",
    "            this_alpha = (self.area*temp_perimeter)/(self.perimeter*temp_area) \n",
    "            return this_alpha\n",
    "        else:\n",
    "            return self.parent.get_alpha(other_node)\n",
    "        \n",
    "        \n",
    "    def add_nodes(self, node_vector, weight):\n",
    "        node_vector = node_vector.astype(float)\n",
    "        if(sum(np.logical_and(self.nodes,node_vector)) != 0):\n",
    "            raise IndexError\n",
    "\n",
    "        self.weights = self.weights + weight.astype(float)\n",
    "        self.nodes = self.nodes + node_vector\n",
    "        self.area = sum(self.weights*self.nodes)/2.0\n",
    "        self.perimeter = sum(self.weights) - 2*self.area\n",
    "\n",
    "        \n",
    "        "
   ]
  },
  {
   "cell_type": "code",
   "execution_count": 77,
   "metadata": {
    "collapsed": true
   },
   "outputs": [],
   "source": [
    "seed(123)\n",
    "n = 30\n",
    "x = randn(2*n).reshape(n,2)\n",
    "def gauss_sim(x,y, sigma = 1):\n",
    "    d = (x[0]-y[0])**2 + (x[1] - y[1])**2\n",
    "    return np.exp(-d/(2*sigma))\n",
    "adjacency = [[0 for i in range(n)] for j in range(n)]\n",
    "for i in range(n):\n",
    "    for j in range(i+1,n):\n",
    "        g_s = gauss_sim(x[i],x[j])\n",
    "        adjacency[i][j] = g_s\n",
    "        adjacency[j][i] = g_s"
   ]
  },
  {
   "cell_type": "code",
   "execution_count": 84,
   "metadata": {
    "collapsed": false
   },
   "outputs": [
    {
     "name": "stdout",
     "output_type": "stream",
     "text": [
      "here 0 i 0\n",
      "next_node 11 alpha 0.0\n",
      "match! 11\n",
      "here 0 i 1\n",
      "next_node 2 alpha 0.47490722541\n",
      "match! 2\n",
      "here 0 i 2\n",
      "next_node 27 alpha 0.7822434836\n",
      "here 27 i 3\n",
      "next_node 18 alpha 0.0\n",
      "match! 18\n",
      "here 27 i 4\n",
      "next_node 21 alpha 0.480241642875\n",
      "match! 21\n",
      "here 27 i 5\n",
      "next_node 11 alpha 0.653220070006\n",
      "match! 0\n",
      "here 27 i 6\n",
      "next_node 19 alpha 0.777920455581\n",
      "here 19 i 7\n",
      "next_node 5 alpha 0.0\n",
      "match! 5\n",
      "here 19 i 8\n",
      "next_node 7 alpha 0.494450018798\n",
      "here 7 i 9\n",
      "next_node 14 alpha 0.0\n",
      "here 14 i 10\n",
      "next_node 1 alpha 0.0\n",
      "here 1 i 11\n",
      "next_node 13 alpha 0.0\n",
      "match! 13\n",
      "here 1 i 12\n",
      "next_node 4 alpha 0.539708085567\n",
      "here 4 i 13\n",
      "next_node 26 alpha 0.0\n",
      "here 26 i 14\n",
      "next_node 6 alpha 0.0\n",
      "match! 6\n",
      "here 26 i 15\n",
      "next_node 4 alpha 0.445227657349\n",
      "match! 4\n",
      "here 26 i 16\n",
      "next_node 13 alpha 0.657810462673\n",
      "match! 1\n",
      "here 26 i 17\n",
      "next_node 17 alpha 0.81892274963\n",
      "match! 17\n",
      "here 26 i 18\n",
      "next_node 23 alpha 0.892901352923\n",
      "here 23 i 19\n",
      "next_node 29 alpha 0.0\n",
      "match! 29\n",
      "here 23 i 20\n",
      "next_node 8 alpha 0.51127390825\n",
      "here 8 i 21\n",
      "next_node 24 alpha 0.0\n",
      "here 24 i 22\n",
      "next_node 28 alpha 0.0\n",
      "match! 28\n",
      "here 24 i 23\n",
      "next_node 10 alpha 0.493909162386\n",
      "match! 10\n",
      "here 24 i 24\n",
      "next_node 8 alpha 0.683818182171\n",
      "match! 8\n",
      "here 24 i 25\n",
      "next_node 29 alpha 0.709531010077\n",
      "match! 23\n",
      "here 24 i 26\n",
      "next_node 9 alpha 0.95995496502\n",
      "here 9 i 27\n",
      "next_node 17 alpha 0.0\n",
      "here 26 i 28\n",
      "next_node 23 alpha 0.892901352923\n",
      "found a loop: [24, 9, 26] 24\n",
      "here 26 i 29\n",
      "next_node 22 alpha 0.891248052199\n",
      "match! 22\n",
      "here 26 i 30\n",
      "next_node 27 alpha 0.941255767731\n",
      "here 27 i 31\n",
      "next_node 19 alpha 0.777920455581\n",
      "here 19 i 32\n",
      "next_node 7 alpha 0.494450018798\n",
      "here 7 i 33\n",
      "next_node 14 alpha 0.0\n",
      "here 14 i 34\n",
      "next_node 1 alpha 0.0\n",
      "found a loop: [26, 27, 19, 7, 14] 26\n",
      "here 14 i 35\n",
      "next_node 12 alpha 0.842648861343\n",
      "here 12 i 36\n",
      "next_node 16 alpha 0.0\n",
      "here 16 i 37\n",
      "next_node 3 alpha 0.0\n",
      "match! 3\n",
      "here 16 i 38\n",
      "next_node 25 alpha 0.586392081734\n",
      "match! 25\n",
      "here 16 i 39\n",
      "next_node 12 alpha 0.597844023398\n",
      "match! 12\n",
      "here 16 i 40\n",
      "next_node 20 alpha 0.799423179558\n",
      "here 20 i 41\n",
      "next_node 15 alpha 0.0\n",
      "match! 15\n",
      "here 20 i 42\n",
      "next_node 1 alpha 0.609838537893\n",
      "here 14 i 43\n",
      "next_node 12 alpha 0.842648861343\n",
      "here 16 i 44\n",
      "next_node 20 alpha 0.799423179558\n",
      "found a loop: [20, 14, 16] 20\n",
      "breaking\n"
     ]
    }
   ],
   "source": [
    "graph = np.array(adjacency)\n",
    "#graph = np.array([[0,1,1,0,0,0],[1,0,1,0,0,0],[1,1,0,1,0,0],[0,0,1,0,1,1],[0,0,0,1,0,1],[0,0,0,1,1,0]])\n",
    "degrees = np.sum(graph, axis = 1) \n",
    "n = len(graph)\n",
    "all_nodes = np.eye(n)\n",
    "clusters = [Cluster(all_nodes[i],graph[i].astype(float),degrees) for i in range(n)]\n",
    "clustered = [0 for i in range(n)]\n",
    "\n",
    "where_we_are = [0]\n",
    "for i in range(2*n):\n",
    "    here = where_we_are[-1]\n",
    "    if(sum(clusters[here].nodes)==n):\n",
    "        print(\"breaking\")\n",
    "        break\n",
    "        \n",
    "    print(\"here\",here,\"i\",i)\n",
    "    \n",
    "    next_node, not_using, not_using2, alpha = clusters[here].get_closest()\n",
    "    print(\"next_node\", next_node, \"alpha\", alpha)\n",
    "    \n",
    "    while(clusters[next_node].parent):\n",
    "        next_node = clusters[next_node].parentId\n",
    "    \n",
    "    next_node_best, not_using, not_using2, not_using3 = clusters[next_node].get_closest()\n",
    "    \n",
    "    if(clusters[here].nodes[next_node_best] == 1):\n",
    "        print(\"match!\", next_node)\n",
    "        where_we_are = [here]\n",
    "        clusters[here].add_nodes(clusters[next_node].nodes,clusters[next_node].weights)\n",
    "        clusters[next_node].parent = clusters[here]\n",
    "        clusters[next_node].parentId = here\n",
    "\n",
    "    else:\n",
    "        if(next_node in where_we_are):\n",
    "            print(\"found a loop:\", where_we_are, next_node)\n",
    "            for i in range(len(where_we_are)-1):\n",
    "                \n",
    "                spot = where_we_are[i]\n",
    "                while(clusters[spot].parent):                   \n",
    "                    spot = clusters[spot].parentId\n",
    "                    \n",
    "                clusters[here].add_nodes(clusters[spot].nodes,clusters[spot].weights)\n",
    "                clusters[spot].parent = clusters[here]\n",
    "                clusters[spot].parentId = here\n",
    "            where_we_are = [here]\n",
    "        else:\n",
    "            where_we_are.append(next_node)      "
   ]
  },
  {
   "cell_type": "code",
   "execution_count": 47,
   "metadata": {
    "collapsed": false
   },
   "outputs": [
    {
     "data": {
      "text/plain": [
       "array([[0, 1, 1, 0, 0, 0],\n",
       "       [1, 0, 1, 0, 0, 0],\n",
       "       [1, 1, 0, 1, 0, 0],\n",
       "       [0, 0, 1, 0, 1, 1],\n",
       "       [0, 0, 0, 1, 0, 1],\n",
       "       [0, 0, 0, 1, 1, 0]])"
      ]
     },
     "execution_count": 47,
     "metadata": {},
     "output_type": "execute_result"
    }
   ],
   "source": [
    "graph"
   ]
  },
  {
   "cell_type": "code",
   "execution_count": 39,
   "metadata": {
    "collapsed": false
   },
   "outputs": [
    {
     "data": {
      "text/plain": [
       "0.04785"
      ]
     },
     "execution_count": 39,
     "metadata": {},
     "output_type": "execute_result"
    }
   ],
   "source": [
    "0.0957/2"
   ]
  },
  {
   "cell_type": "code",
   "execution_count": null,
   "metadata": {
    "collapsed": true
   },
   "outputs": [],
   "source": []
  }
 ],
 "metadata": {
  "kernelspec": {
   "display_name": "Python 3",
   "language": "python",
   "name": "python3"
  },
  "language_info": {
   "codemirror_mode": {
    "name": "ipython",
    "version": 3
   },
   "file_extension": ".py",
   "mimetype": "text/x-python",
   "name": "python",
   "nbconvert_exporter": "python",
   "pygments_lexer": "ipython3",
   "version": "3.4.1"
  }
 },
 "nbformat": 4,
 "nbformat_minor": 0
}
