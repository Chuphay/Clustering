{
 "cells": [
  {
   "cell_type": "code",
   "execution_count": 32,
   "metadata": {
    "collapsed": false
   },
   "outputs": [
    {
     "name": "stdout",
     "output_type": "stream",
     "text": [
      "Populating the interactive namespace from numpy and matplotlib\n"
     ]
    },
    {
     "name": "stderr",
     "output_type": "stream",
     "text": [
      "WARNING: pylab import has clobbered these variables: ['seed']\n",
      "`%matplotlib` prevents importing * from pylab and numpy\n"
     ]
    }
   ],
   "source": [
    "%pylab inline\n",
    "from threading import Thread, Lock"
   ]
  },
  {
   "cell_type": "code",
   "execution_count": 33,
   "metadata": {
    "collapsed": true
   },
   "outputs": [],
   "source": [
    "lock = Lock()\n",
    "\n",
    "def cluster(vertex, graph, groups, threadId, alpha = 1):\n",
    "    n = graph.shape[0]  \n",
    "    classified = zeros(n)\n",
    "       \n",
    "    internal_weights = graph[vertex].astype(float)    \n",
    "    degrees = sum(graph, axis = 1)\n",
    "    perimeter = sum(internal_weights)      \n",
    "    classified[vertex] = 1\n",
    "    area = internal_weights[vertex]\n",
    "    \n",
    "    lock.acquire()\n",
    "    groups[vertex] *= threadId\n",
    "    lock.release()\n",
    "   \n",
    "    while (sum(classified) < n): \n",
    "        temp_perimeter = perimeter - 2*internal_weights + degrees\n",
    "        temp_area = area + internal_weights\n",
    "        ratios = temp_area / (temp_perimeter + 0.000001) \n",
    "        next_vertex = np.argmax(ratios * np.logical_not(classified))\n",
    "        this_alpha = (area*temp_perimeter[next_vertex])/(perimeter*temp_area[next_vertex]) \n",
    "        if(this_alpha > alpha):\n",
    "            break\n",
    "        classified[next_vertex] = 1\n",
    "        internal_weights += graph[next_vertex]\n",
    "        perimeter = temp_perimeter[next_vertex]\n",
    "        area = temp_area[next_vertex]\n",
    "        \n",
    "        lock.acquire()\n",
    "        groups[next_vertex] *= threadId\n",
    "        lock.release()\n",
    "        \n",
    "        "
   ]
  },
  {
   "cell_type": "code",
   "execution_count": 30,
   "metadata": {
    "collapsed": false
   },
   "outputs": [
    {
     "name": "stdout",
     "output_type": "stream",
     "text": [
      "Seed: 2\n",
      "Seed: 4\n",
      "Seed: 3\n"
     ]
    },
    {
     "data": {
      "text/plain": [
       "array([ 2,  2,  2, 15, 15, 15])"
      ]
     },
     "execution_count": 30,
     "metadata": {},
     "output_type": "execute_result"
    }
   ],
   "source": [
    "A = array([[0,1,1,0,0,0],[1,0,1,0,0,0],[1,1,0,1,0,0],[0,0,1,0,1,1],[0,0,0,1,0,1],[0,0,0,1,1,0]])\n",
    "output = array([1,1,1,1,1,1])\n",
    "primes = [2,3,5]#,7,11,13,17,19]\n",
    "threads = []\n",
    "for p in primes:\n",
    "    seed = np.random.randint(A.shape[0])\n",
    "    print(\"Seed: \"+str(seed))\n",
    "    t = Thread(target = cluster, args =(seed, A, output, p))\n",
    "    threads += [t]\n",
    "    t.start()\n",
    "for t in threads: \n",
    "    t.join()\n",
    "output"
   ]
  },
  {
   "cell_type": "code",
   "execution_count": 34,
   "metadata": {
    "collapsed": false
   },
   "outputs": [
    {
     "data": {
      "image/png": "[encoded data removed]",
      "text/plain": [
       "<matplotlib.figure.Figure at 0xae6a130c>"
      ]
     },
     "metadata": {},
     "output_type": "display_data"
    }
   ],
   "source": [
    "seed(123)\n",
    "n = 160\n",
    "x = randn(2*n).reshape(n,2)\n",
    "for i in range(n//2,n):\n",
    "    x[i][0] += 4\n",
    "    x[i][1] += 4\n",
    "def gauss_sim(x,y, sigma = 1):\n",
    "    d = (x[0]-y[0])**2 + (x[1] - y[1])**2\n",
    "    return np.exp(-d/(2*sigma))\n",
    "adjacency = [[0 for i in range(n)] for j in range(n)]\n",
    "for i in range(n):\n",
    "    for j in range(i+1,n):\n",
    "        g_s = gauss_sim(x[i],x[j])\n",
    "        adjacency[i][j] = g_s\n",
    "        adjacency[j][i] = g_s\n",
    "scatter(x[:,0],x[:,1]);"
   ]
  },
  {
   "cell_type": "code",
   "execution_count": 37,
   "metadata": {
    "collapsed": false
   },
   "outputs": [
    {
     "name": "stdout",
     "output_type": "stream",
     "text": [
      "Seed: 32\n",
      "Seed: 136\n",
      "Seed: 80\n",
      "Seed: 69\n"
     ]
    },
    {
     "data": {
      "text/plain": [
       "array([ 14.,  14.,  14.,  14.,  14.,  14.,  14.,  14.,  15.,  14.,  14.,\n",
       "        14.,  14.,  14.,  14.,  14.,  14.,  14.,  14.,  14.,  14.,  14.,\n",
       "        14.,  14.,  14.,  14.,  14.,  14.,  14.,  14.,  14.,  14.,  14.,\n",
       "        14.,  14.,  14.,  14.,  14.,  14.,  14.,  14.,  14.,  14.,  14.,\n",
       "        14.,  14.,  14.,  14.,  14.,  14.,  14.,  14.,  14.,  14.,  14.,\n",
       "        14.,  14.,  14.,  14.,  14.,  14.,  14.,  14.,  14.,  14.,  14.,\n",
       "        14.,  14.,  14.,  14.,  14.,  14.,  14.,  14.,  14.,  14.,  14.,\n",
       "        14.,  14.,  14.,  15.,  15.,  15.,  15.,  15.,  15.,  15.,  15.,\n",
       "        15.,  15.,  15.,  15.,  15.,  15.,  15.,  15.,  15.,  15.,  15.,\n",
       "        15.,  15.,  15.,  15.,  15.,  15.,  15.,  15.,  15.,  15.,  15.,\n",
       "        15.,  15.,  15.,  15.,  15.,  15.,  15.,  15.,  15.,  15.,  15.,\n",
       "        15.,  15.,  15.,  15.,  15.,  15.,  15.,  15.,  15.,  15.,  15.,\n",
       "        15.,  15.,  15.,  15.,  15.,  15.,  15.,  15.,  15.,  15.,  15.,\n",
       "        15.,  15.,  15.,  15.,  15.,  15.,  15.,  15.,  15.,  15.,  15.,\n",
       "        15.,  15.,  15.,  15.,  15.,  15.])"
      ]
     },
     "execution_count": 37,
     "metadata": {},
     "output_type": "execute_result"
    }
   ],
   "source": [
    "A = array(adjacency)\n",
    "output = ones(A.shape[0])\n",
    "primes = [2,3,5,7]#,11,13,17,19]\n",
    "threads = []\n",
    "for p in primes:\n",
    "    seed = np.random.randint(A.shape[0])\n",
    "    print(\"Seed: \"+str(seed))\n",
    "    t = Thread(target = cluster, args =(seed, A, output, p))\n",
    "    threads += [t]\n",
    "    t.start()\n",
    "for t in threads: \n",
    "    t.join()\n",
    "output"
   ]
  },
  {
   "cell_type": "code",
   "execution_count": null,
   "metadata": {
    "collapsed": true
   },
   "outputs": [],
   "source": []
  }
 ],
 "metadata": {
  "kernelspec": {
   "display_name": "Python 3",
   "language": "python",
   "name": "python3"
  },
  "language_info": {
   "codemirror_mode": {
    "name": "ipython",
    "version": 3
   },
   "file_extension": ".py",
   "mimetype": "text/x-python",
   "name": "python",
   "nbconvert_exporter": "python",
   "pygments_lexer": "ipython3",
   "version": "3.4.4"
  }
 },
 "nbformat": 4,
 "nbformat_minor": 0
}
