{
 "cells": [
  {
   "cell_type": "code",
   "execution_count": 1,
   "metadata": {
    "collapsed": true
   },
   "outputs": [],
   "source": [
    "import numpy as np"
   ]
  },
  {
   "cell_type": "code",
   "execution_count": 30,
   "metadata": {
    "collapsed": false
   },
   "outputs": [],
   "source": [
    "class Cluster(object):\n",
    "    def __init__(self, nodes, weights, degrees, perimeter = None, area = None):\n",
    "        self.nodes = nodes.astype(float)\n",
    "        self.weights = weights.astype(float)\n",
    "        self.degrees = degrees #this never changes       \n",
    "        if(perimeter == None):\n",
    "            self.perimeter = sum(self.weights)\n",
    "        else:\n",
    "            self.perimeter = perimeter\n",
    "        if(area == None):\n",
    "            self.area = 0\n",
    "        else:\n",
    "            self.area = area\n",
    "        self.parent = None\n",
    "        self.parentId = None\n",
    "            \n",
    "    def get_closest(self):\n",
    "        if(sum(self.nodes) == len(self.nodes)):\n",
    "            raise IndexError\n",
    "        if(sum(self.weights) == 0):\n",
    "            raise IndexError\n",
    "        if (self.parent == None):\n",
    "            temp_perimeter = self.perimeter - 2*self.weights + self.degrees\n",
    "            temp_area = self.area + self.weights\n",
    "            ratios = temp_area / (temp_perimeter + 0.000001) \n",
    "            next_vertex = np.argmax(ratios * np.logical_not(self.nodes))\n",
    "            this_alpha = (self.area*temp_perimeter[next_vertex])/(self.perimeter*temp_area[next_vertex]) \n",
    "            return (next_vertex, temp_area[next_vertex], temp_perimeter[next_vertex], this_alpha)\n",
    "        else:\n",
    "            return self.parent.get_closest()\n",
    "    \n",
    "        \n",
    "    def add_nodes(self, node_vector, weight):        \n",
    "        self.perimeter = self.perimeter - 2*sum(self.weights*node_vector) + sum(self.degrees*node_vector)\n",
    "        self.area = self.area + sum(self.weights*node_vector)\n",
    "        self.weights = self.weights + weight.astype(float) \n",
    "        self.nodes = self.nodes + node_vector\n",
    "        print(\"add_nodes\" + str(self.nodes), str(self.nodes), self.area, self.perimeter)\n",
    "\n",
    "        \n",
    "        "
   ]
  },
  {
   "cell_type": "code",
   "execution_count": 31,
   "metadata": {
    "collapsed": false
   },
   "outputs": [
    {
     "name": "stdout",
     "output_type": "stream",
     "text": [
      "[ 1.  0.  0.  0.  0.  0.]\n",
      "[ 0.  1.  0.  0.  0.  0.]\n",
      "[ 0.  0.  1.  0.  0.  0.]\n",
      "[ 0.  0.  0.  1.  0.  0.]\n",
      "[ 0.  0.  0.  0.  1.  0.]\n",
      "[ 0.  0.  0.  0.  0.  1.]\n",
      "here 0\n",
      "(1, 1.0, 2.0, 0.0)\n",
      "has parent None\n",
      "match!\n",
      "add_nodes[ 1.  1.  0.  0.  0.  0.] [ 1.  1.  0.  0.  0.  0.] 1.0 2.0\n",
      "[ 1.  1.  0.  0.  0.  0.]\n",
      "[ 0.  1.  0.  0.  0.  0.]\n",
      "[ 0.  0.  1.  0.  0.  0.]\n",
      "[ 0.  0.  0.  1.  0.  0.]\n",
      "[ 0.  0.  0.  0.  1.  0.]\n",
      "[ 0.  0.  0.  0.  0.  1.]\n",
      "here 0\n",
      "(2, 3.0, 1.0, 0.16666666666666666)\n",
      "has parent None\n",
      "match!\n",
      "add_nodes[ 1.  1.  1.  0.  0.  0.] [ 1.  1.  1.  0.  0.  0.] 3.0 1.0\n",
      "[ 1.  1.  1.  0.  0.  0.]\n",
      "[ 0.  1.  0.  0.  0.  0.]\n",
      "[ 0.  0.  1.  0.  0.  0.]\n",
      "[ 0.  0.  0.  1.  0.  0.]\n",
      "[ 0.  0.  0.  0.  1.  0.]\n",
      "[ 0.  0.  0.  0.  0.  1.]\n",
      "here 0\n",
      "(3, 4.0, 2.0, 1.5)\n",
      "has parent None\n",
      "havnt gotten here yet\n",
      "here 3\n",
      "(4, 1.0, 3.0, 0.0)\n",
      "has parent None\n",
      "havnt gotten here yet\n",
      "here 4\n",
      "(5, 1.0, 2.0, 0.0)\n",
      "has parent None\n",
      "match!\n",
      "add_nodes[ 0.  0.  0.  0.  1.  1.] [ 0.  0.  0.  0.  1.  1.] 1.0 2.0\n",
      "[ 1.  1.  1.  0.  0.  0.]\n",
      "[ 0.  1.  0.  0.  0.  0.]\n",
      "[ 0.  0.  1.  0.  0.  0.]\n",
      "[ 0.  0.  0.  1.  0.  0.]\n",
      "[ 0.  0.  0.  0.  1.  1.]\n",
      "[ 0.  0.  0.  0.  0.  1.]\n",
      "here 4\n",
      "(3, 3.0, 1.0, 0.16666666666666666)\n",
      "has parent None\n",
      "match!\n",
      "add_nodes[ 0.  0.  0.  1.  1.  1.] [ 0.  0.  0.  1.  1.  1.] 3.0 1.0\n",
      "[ 1.  1.  1.  0.  0.  0.]\n",
      "[ 0.  1.  0.  0.  0.  0.]\n",
      "[ 0.  0.  1.  0.  0.  0.]\n",
      "[ 0.  0.  0.  1.  0.  0.]\n",
      "[ 0.  0.  0.  1.  1.  1.]\n",
      "[ 0.  0.  0.  0.  0.  1.]\n",
      "here 4\n",
      "(2, 4.0, 2.0, 1.5)\n",
      "has parent <__main__.Cluster object at 0xb034558c>\n",
      "match!\n",
      "add_nodes[ 1.  1.  1.  1.  1.  1.] [ 1.  1.  1.  1.  1.  1.] 4.0 6.0\n",
      "[ 1.  1.  1.  0.  0.  0.]\n",
      "[ 0.  1.  0.  0.  0.  0.]\n",
      "[ 0.  0.  1.  0.  0.  0.]\n",
      "[ 0.  0.  0.  1.  0.  0.]\n",
      "[ 1.  1.  1.  1.  1.  1.]\n",
      "[ 0.  0.  0.  0.  0.  1.]\n",
      "here 4\n"
     ]
    },
    {
     "ename": "IndexError",
     "evalue": "",
     "output_type": "error",
     "traceback": [
      "\u001b[1;31m---------------------------------------------------------------------------\u001b[0m",
      "\u001b[1;31mIndexError\u001b[0m                                Traceback (most recent call last)",
      "\u001b[1;32m<ipython-input-31-13a555a58dd6>\u001b[0m in \u001b[0;36m<module>\u001b[1;34m()\u001b[0m\n\u001b[0;32m     11\u001b[0m     \u001b[0mhere\u001b[0m \u001b[1;33m=\u001b[0m \u001b[0mwhere_we_are\u001b[0m\u001b[1;33m[\u001b[0m\u001b[1;33m-\u001b[0m\u001b[1;36m1\u001b[0m\u001b[1;33m]\u001b[0m\u001b[1;33m\u001b[0m\u001b[0m\n\u001b[0;32m     12\u001b[0m     \u001b[0mprint\u001b[0m\u001b[1;33m(\u001b[0m\u001b[1;34m\"here\"\u001b[0m\u001b[1;33m,\u001b[0m\u001b[0mhere\u001b[0m\u001b[1;33m)\u001b[0m\u001b[1;33m\u001b[0m\u001b[0m\n\u001b[1;32m---> 13\u001b[1;33m     \u001b[0mprint\u001b[0m\u001b[1;33m(\u001b[0m\u001b[0mclusters\u001b[0m\u001b[1;33m[\u001b[0m\u001b[0mhere\u001b[0m\u001b[1;33m]\u001b[0m\u001b[1;33m.\u001b[0m\u001b[0mget_closest\u001b[0m\u001b[1;33m(\u001b[0m\u001b[1;33m)\u001b[0m\u001b[1;33m)\u001b[0m\u001b[1;33m\u001b[0m\u001b[0m\n\u001b[0m\u001b[0;32m     14\u001b[0m \u001b[1;33m\u001b[0m\u001b[0m\n\u001b[0;32m     15\u001b[0m     \u001b[0mnext_node\u001b[0m\u001b[1;33m,\u001b[0m \u001b[0mnext_area\u001b[0m\u001b[1;33m,\u001b[0m \u001b[0mnext_perimeter\u001b[0m\u001b[1;33m,\u001b[0m \u001b[0malpha\u001b[0m \u001b[1;33m=\u001b[0m \u001b[0mclusters\u001b[0m\u001b[1;33m[\u001b[0m\u001b[0mhere\u001b[0m\u001b[1;33m]\u001b[0m\u001b[1;33m.\u001b[0m\u001b[0mget_closest\u001b[0m\u001b[1;33m(\u001b[0m\u001b[1;33m)\u001b[0m\u001b[1;33m\u001b[0m\u001b[0m\n",
      "\u001b[1;32m<ipython-input-30-d13f412a60ac>\u001b[0m in \u001b[0;36mget_closest\u001b[1;34m(self)\u001b[0m\n\u001b[0;32m     17\u001b[0m     \u001b[1;32mdef\u001b[0m \u001b[0mget_closest\u001b[0m\u001b[1;33m(\u001b[0m\u001b[0mself\u001b[0m\u001b[1;33m)\u001b[0m\u001b[1;33m:\u001b[0m\u001b[1;33m\u001b[0m\u001b[0m\n\u001b[0;32m     18\u001b[0m         \u001b[1;32mif\u001b[0m\u001b[1;33m(\u001b[0m\u001b[0msum\u001b[0m\u001b[1;33m(\u001b[0m\u001b[0mself\u001b[0m\u001b[1;33m.\u001b[0m\u001b[0mnodes\u001b[0m\u001b[1;33m)\u001b[0m \u001b[1;33m==\u001b[0m \u001b[0mlen\u001b[0m\u001b[1;33m(\u001b[0m\u001b[0mself\u001b[0m\u001b[1;33m.\u001b[0m\u001b[0mnodes\u001b[0m\u001b[1;33m)\u001b[0m\u001b[1;33m)\u001b[0m\u001b[1;33m:\u001b[0m\u001b[1;33m\u001b[0m\u001b[0m\n\u001b[1;32m---> 19\u001b[1;33m             \u001b[1;32mraise\u001b[0m \u001b[0mIndexError\u001b[0m\u001b[1;33m\u001b[0m\u001b[0m\n\u001b[0m\u001b[0;32m     20\u001b[0m         \u001b[1;32mif\u001b[0m\u001b[1;33m(\u001b[0m\u001b[0msum\u001b[0m\u001b[1;33m(\u001b[0m\u001b[0mself\u001b[0m\u001b[1;33m.\u001b[0m\u001b[0mweights\u001b[0m\u001b[1;33m)\u001b[0m \u001b[1;33m==\u001b[0m \u001b[1;36m0\u001b[0m\u001b[1;33m)\u001b[0m\u001b[1;33m:\u001b[0m\u001b[1;33m\u001b[0m\u001b[0m\n\u001b[0;32m     21\u001b[0m             \u001b[1;32mraise\u001b[0m \u001b[0mIndexError\u001b[0m\u001b[1;33m\u001b[0m\u001b[0m\n",
      "\u001b[1;31mIndexError\u001b[0m: "
     ]
    }
   ],
   "source": [
    "graph = np.array([[0,1,1,0,0,0],[1,0,1,0,0,0],[1,1,0,1,0,0],[0,0,1,0,1,1],[0,0,0,1,0,1],[0,0,0,1,1,0]])\n",
    "degrees = np.sum(graph, axis = 1) \n",
    "n = len(graph)\n",
    "all_nodes = np.eye(n)\n",
    "clusters = [Cluster(all_nodes[i],graph[i].astype(float),degrees) for i in range(n)]\n",
    "clustered = [0 for i in range(n)]\n",
    "for i in range(n):\n",
    "    print(clusters[i].nodes) \n",
    "where_we_are = [0]\n",
    "for i in range(22):\n",
    "    here = where_we_are[-1]\n",
    "    print(\"here\",here)\n",
    "    print(clusters[here].get_closest())\n",
    "    \n",
    "    next_node, next_area, next_perimeter, alpha = clusters[here].get_closest()\n",
    "    print(\"has parent\", clusters[next_node].parent)\n",
    "    while(clusters[next_node].parent):\n",
    "        next_node = clusters[next_node].parentId\n",
    "    if(clusters[next_node].parent):\n",
    "        print(\"in if\")\n",
    "    else: \n",
    "        #print(\"else\", next_node)\n",
    "        #print(clusters[next_node].get_closest())\n",
    "        next_node_best, not_using, not_using2, not_using3 = clusters[next_node].get_closest()\n",
    "        if(clusters[here].nodes[next_node_best] == 1):\n",
    "            print(\"match!\")\n",
    "            clusters[here].add_nodes(clusters[next_node].nodes,clusters[next_node].weights)\n",
    "            #clusters[here].add_node(next_node,graph[next_node].astype(float),next_area,next_perimeter)\n",
    "            \n",
    "            clusters[next_node].parent = clusters[here]\n",
    "            clusters[next_node].parentId = here\n",
    "            for i in range(n):\n",
    "                print(clusters[i].nodes)  \n",
    "            #clustered[next_node] = 1\n",
    "            #clustered[here] = 1\n",
    "        else:\n",
    "            print(\"havnt gotten here yet\")\n",
    "            where_we_are.append(next_node)\n",
    "            \n",
    "for i in range(n):\n",
    "    print(clusters[i].nodes)           "
   ]
  },
  {
   "cell_type": "code",
   "execution_count": 11,
   "metadata": {
    "collapsed": false
   },
   "outputs": [
    {
     "name": "stdout",
     "output_type": "stream",
     "text": [
      "Populating the interactive namespace from numpy and matplotlib\n"
     ]
    },
    {
     "name": "stderr",
     "output_type": "stream",
     "text": [
      "WARNING: pylab import has clobbered these variables: ['degrees']\n",
      "`%matplotlib` prevents importing * from pylab and numpy\n"
     ]
    }
   ],
   "source": [
    "import networkx as nx\n",
    "%pylab inline"
   ]
  },
  {
   "cell_type": "code",
   "execution_count": 28,
   "metadata": {
    "collapsed": false
   },
   "outputs": [
    {
     "data": {
      "image/png": "[encoded data removed]",
      "text/plain": [
       "<matplotlib.figure.Figure at 0xb029bfcc>"
      ]
     },
     "metadata": {},
     "output_type": "display_data"
    }
   ],
   "source": [
    "seed(123)\n",
    "e_r_g = nx.erdos_renyi_graph(10, 0.3)\n",
    "nx.draw(e_r_g)"
   ]
  },
  {
   "cell_type": "code",
   "execution_count": 33,
   "metadata": {
    "collapsed": false
   },
   "outputs": [
    {
     "name": "stdout",
     "output_type": "stream",
     "text": [
      "[[ 0.  0.  0.  0.  0.  1.  1.  0.  1.  0.]\n",
      " [ 0.  0.  1.  0.  1.  0.  1.  0.  0.  1.]\n",
      " [ 0.  1.  0.  0.  0.  1.  0.  0.  0.  1.]\n",
      " [ 0.  0.  0.  0.  0.  0.  1.  0.  0.  0.]\n",
      " [ 0.  1.  0.  0.  0.  0.  0.  1.  1.  0.]\n",
      " [ 1.  0.  1.  0.  0.  0.  1.  0.  0.  1.]\n",
      " [ 1.  1.  0.  1.  0.  1.  0.  1.  0.  0.]\n",
      " [ 0.  0.  0.  0.  1.  0.  1.  0.  0.  0.]\n",
      " [ 1.  0.  0.  0.  1.  0.  0.  0.  0.  0.]\n",
      " [ 0.  1.  1.  0.  0.  1.  0.  0.  0.  0.]]\n",
      "here 9\n",
      "(2, 1.0, 4.0, 0.0)\n",
      "has parent None\n",
      "match!\n",
      "add_nodes[ 0.  0.  1.  0.  0.  0.  0.  0.  0.  1.] [ 0.  0.  1.  0.  0.  0.  0.  0.  0.  1.] 1.0 4.0\n",
      "here 9\n",
      "(1, 3.0, 4.0, 0.33333333333333331)\n",
      "has parent None\n",
      "match!\n",
      "add_nodes[ 0.  1.  1.  0.  0.  0.  0.  0.  0.  1.] [ 0.  1.  1.  0.  0.  0.  0.  0.  0.  1.] 3.0 4.0\n",
      "here 9\n",
      "(5, 5.0, 4.0, 0.59999999999999998)\n",
      "has parent None\n",
      "havnt gotten here yet\n",
      "here 5\n",
      "(0, 1.0, 5.0, 0.0)\n",
      "has parent None\n",
      "havnt gotten here yet\n",
      "here 0\n",
      "(8, 1.0, 3.0, 0.0)\n",
      "has parent None\n",
      "match!\n",
      "add_nodes[ 1.  0.  0.  0.  0.  0.  0.  0.  1.  0.] [ 1.  0.  0.  0.  0.  0.  0.  0.  1.  0.] 1.0 3.0\n",
      "here 0\n",
      "(4, 2.0, 4.0, 0.66666666666666663)\n",
      "has parent None\n",
      "havnt gotten here yet\n",
      "here 4\n",
      "(7, 1.0, 3.0, 0.0)\n",
      "has parent None\n",
      "match!\n",
      "add_nodes[ 0.  0.  0.  0.  1.  0.  0.  1.  0.  0.] [ 0.  0.  0.  0.  1.  0.  0.  1.  0.  0.] 1.0 3.0\n",
      "here 4\n",
      "(8, 2.0, 3.0, 0.5)\n",
      "has parent <__main__.Cluster object at 0xb031cf4c>\n",
      "match!\n",
      "add_nodes[ 1.  0.  0.  0.  1.  0.  0.  1.  1.  0.] [ 1.  0.  0.  0.  1.  0.  0.  1.  1.  0.] 2.0 6.0\n",
      "here 4\n",
      "(6, 4.0, 7.0, 0.58333333333333337)\n",
      "has parent None\n",
      "havnt gotten here yet\n",
      "here 6\n",
      "(3, 1.0, 4.0, 0.0)\n",
      "has parent None\n",
      "match!\n",
      "add_nodes[ 0.  0.  0.  1.  0.  0.  1.  0.  0.  0.] [ 0.  0.  0.  1.  0.  0.  1.  0.  0.  0.] 1.0 4.0\n",
      "here 6\n",
      "(7, 2.0, 4.0, 0.5)\n",
      "has parent <__main__.Cluster object at 0xb031cbcc>\n",
      "match!\n",
      "add_nodes[ 1.  0.  0.  1.  1.  0.  1.  1.  1.  0.] [ 1.  0.  0.  1.  1.  0.  1.  1.  1.  0.] 3.0 10.0\n",
      "here 6\n",
      "(1, 5.0, 10.0, 0.59999999999999998)\n",
      "has parent <__main__.Cluster object at 0xb03455ec>\n",
      "havnt gotten here yet\n",
      "here 9\n",
      "(5, 5.0, 4.0, 0.59999999999999998)\n",
      "has parent None\n",
      "havnt gotten here yet\n",
      "here 5\n",
      "(0, 1.0, 5.0, 0.0)\n",
      "has parent <__main__.Cluster object at 0xb031cbcc>\n",
      "havnt gotten here yet\n",
      "here 6\n",
      "(1, 5.0, 10.0, 0.59999999999999998)\n",
      "has parent <__main__.Cluster object at 0xb03455ec>\n",
      "havnt gotten here yet\n",
      "[ 1.  0.  0.  0.  0.  0.  0.  0.  1.  0.]\n",
      "[ 0.  1.  0.  0.  0.  0.  0.  0.  0.  0.]\n",
      "[ 0.  0.  1.  0.  0.  0.  0.  0.  0.  0.]\n",
      "[ 0.  0.  0.  1.  0.  0.  0.  0.  0.  0.]\n",
      "[ 1.  0.  0.  0.  1.  0.  0.  1.  1.  0.]\n",
      "[ 0.  0.  0.  0.  0.  1.  0.  0.  0.  0.]\n",
      "[ 1.  0.  0.  1.  1.  0.  1.  1.  1.  0.]\n",
      "[ 0.  0.  0.  0.  0.  0.  0.  1.  0.  0.]\n",
      "[ 0.  0.  0.  0.  0.  0.  0.  0.  1.  0.]\n",
      "[ 0.  1.  1.  0.  0.  0.  0.  0.  0.  1.]\n"
     ]
    }
   ],
   "source": [
    "graph = array(nx.adjacency_matrix(e_r_g))\n",
    "print(graph)\n",
    "#graph = np.array([[0,1,1,0,0,0],[1,0,1,0,0,0],[1,1,0,1,0,0],[0,0,1,0,1,1],[0,0,0,1,0,1],[0,0,0,1,1,0]])\n",
    "degrees = np.sum(graph, axis = 1) \n",
    "n = len(graph)\n",
    "all_nodes = np.eye(n)\n",
    "clusters = [Cluster(all_nodes[i],graph[i].astype(float),degrees) for i in range(n)]\n",
    "clustered = [0 for i in range(n)]\n",
    "#for i in range(n):\n",
    "#    print(clusters[i].nodes) \n",
    "where_we_are = [9]\n",
    "for i in range(15):\n",
    "    here = where_we_are[-1]\n",
    "    print(\"here\",here)\n",
    "    print(clusters[here].get_closest())\n",
    "    \n",
    "    next_node, next_area, next_perimeter, alpha = clusters[here].get_closest()\n",
    "    print(\"has parent\", clusters[next_node].parent)\n",
    "    while(clusters[next_node].parent):\n",
    "        next_node = clusters[next_node].parentId\n",
    "    if(clusters[next_node].parent):\n",
    "        print(\"in if\")\n",
    "    else: \n",
    "        #print(\"else\", next_node)\n",
    "        #print(clusters[next_node].get_closest())\n",
    "        next_node_best, not_using, not_using2, not_using3 = clusters[next_node].get_closest()\n",
    "        if(clusters[here].nodes[next_node_best] == 1):\n",
    "            print(\"match!\")\n",
    "            clusters[here].add_nodes(clusters[next_node].nodes,clusters[next_node].weights)\n",
    "            #clusters[here].add_node(next_node,graph[next_node].astype(float),next_area,next_perimeter)\n",
    "            \n",
    "            clusters[next_node].parent = clusters[here]\n",
    "            clusters[next_node].parentId = here\n",
    "            #for i in range(n):\n",
    "            #    print(clusters[i].nodes)  \n",
    "            #clustered[next_node] = 1\n",
    "            #clustered[here] = 1\n",
    "        else:\n",
    "            print(\"havnt gotten here yet\")\n",
    "            where_we_are.append(next_node)\n",
    "            \n",
    "for i in range(n):\n",
    "    print(clusters[i].nodes)           "
   ]
  },
  {
   "cell_type": "code",
   "execution_count": null,
   "metadata": {
    "collapsed": true
   },
   "outputs": [],
   "source": []
  }
 ],
 "metadata": {
  "kernelspec": {
   "display_name": "Python 3",
   "language": "python",
   "name": "python3"
  },
  "language_info": {
   "codemirror_mode": {
    "name": "ipython",
    "version": 3
   },
   "file_extension": ".py",
   "mimetype": "text/x-python",
   "name": "python",
   "nbconvert_exporter": "python",
   "pygments_lexer": "ipython3",
   "version": "3.4.1"
  }
 },
 "nbformat": 4,
 "nbformat_minor": 0
}
