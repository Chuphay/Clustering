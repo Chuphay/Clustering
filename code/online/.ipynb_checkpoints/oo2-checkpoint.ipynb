{
 "cells": [
  {
   "cell_type": "code",
   "execution_count": 1,
   "metadata": {
    "collapsed": true
   },
   "outputs": [],
   "source": [
    "import numpy as np"
   ]
  },
  {
   "cell_type": "code",
   "execution_count": 14,
   "metadata": {
    "collapsed": true
   },
   "outputs": [],
   "source": [
    "class Cluster(object):\n",
    "    def __init__(self, nodes, weights, degrees, perimeter = None, area = None):\n",
    "        self.nodes = nodes.astype(float)\n",
    "        self.weights = weights.astype(float)\n",
    "        self.degrees = degrees #this never changes       \n",
    "        if(perimeter == None):\n",
    "            self.perimeter = sum(self.weights)\n",
    "        else:\n",
    "            self.perimeter = perimeter\n",
    "        if(area == None):\n",
    "            self.area = 0\n",
    "        else:\n",
    "            self.area = area\n",
    "        self.parent = None\n",
    "            \n",
    "    def get_closest(self):\n",
    "        if (self.parent == None):\n",
    "            temp_perimeter = self.perimeter - 2*self.weights + self.degrees\n",
    "            temp_area = self.area + self.weights\n",
    "            ratios = temp_area / (temp_perimeter + 0.000001) \n",
    "            next_vertex = np.argmax(ratios * np.logical_not(self.nodes))\n",
    "            this_alpha = (self.area*temp_perimeter[next_vertex])/(self.perimeter*temp_area[next_vertex]) \n",
    "            return (next_vertex, temp_area[next_vertex], temp_perimeter[next_vertex], this_alpha)\n",
    "        else:\n",
    "            return self.parent.get_closest()\n",
    "    \n",
    "    def add_node(self, node, weight, temp_area, temp_perimeter):\n",
    "        self.nodes[node] = 1\n",
    "        self.weights += weight.astype(float)\n",
    "        self.perimeter = temp_perimeter\n",
    "        self.area = temp_area\n",
    "    def add_nodes(self, node_vector, weight):\n",
    "        \n",
    "        temp_perimeter = self.perimeter - 2*sum(self.weights*node_vector) + sum(self.degrees*node_vector)\n",
    "        temp_area = self.area + sum(self.weights*node_vector)\n",
    "        temp_weights = self.weights + weight.astype(float) \n",
    "        temp_nodes = self.nodes + node_vector\n",
    "        print(\"add_nodes\" + str(temp_nodes), str(self.nodes), temp_area, temp_perimeter)\n",
    "        print(node_vector)\n",
    "        \n",
    "        \n",
    "        "
   ]
  },
  {
   "cell_type": "code",
   "execution_count": 16,
   "metadata": {
    "collapsed": false
   },
   "outputs": [
    {
     "name": "stdout",
     "output_type": "stream",
     "text": [
      "[ 1.  0.  0.  0.  0.  0.]\n",
      "[ 0.  1.  0.  0.  0.  0.]\n",
      "[ 0.  0.  1.  0.  0.  0.]\n",
      "[ 0.  0.  0.  1.  0.  0.]\n",
      "[ 0.  0.  0.  0.  1.  0.]\n",
      "[ 0.  0.  0.  0.  0.  1.]\n",
      "here 0\n",
      "(1, 1.0, 2.0, 0.0)\n",
      "has parent None\n",
      "match!\n",
      "add_nodes[ 1.  1.  0.  0.  0.  0.] [ 1.  0.  0.  0.  0.  0.] 1.0 2.0\n",
      "[ 0.  1.  0.  0.  0.  0.]\n",
      "[ 1.  1.  0.  0.  0.  0.]\n",
      "[ 0.  1.  0.  0.  0.  0.]\n",
      "[ 0.  0.  1.  0.  0.  0.]\n",
      "[ 0.  0.  0.  1.  0.  0.]\n",
      "[ 0.  0.  0.  0.  1.  0.]\n",
      "[ 0.  0.  0.  0.  0.  1.]\n",
      "here 0\n",
      "(2, 3.0, 1.0, 0.16666666666666666)\n",
      "has parent None\n",
      "match!\n",
      "add_nodes[ 1.  1.  1.  0.  0.  0.] [ 1.  1.  0.  0.  0.  0.] 3.0 1.0\n",
      "[ 0.  0.  1.  0.  0.  0.]\n",
      "[ 1.  1.  1.  0.  0.  0.]\n",
      "[ 0.  1.  0.  0.  0.  0.]\n",
      "[ 0.  0.  1.  0.  0.  0.]\n",
      "[ 0.  0.  0.  1.  0.  0.]\n",
      "[ 0.  0.  0.  0.  1.  0.]\n",
      "[ 0.  0.  0.  0.  0.  1.]\n",
      "here 0\n",
      "(3, 4.0, 2.0, 1.5)\n",
      "has parent None\n",
      "havnt gotten here yet\n",
      "here 3\n",
      "(4, 1.0, 3.0, 0.0)\n",
      "has parent None\n",
      "havnt gotten here yet\n",
      "here 4\n",
      "(5, 1.0, 2.0, 0.0)\n",
      "has parent None\n",
      "match!\n",
      "add_nodes[ 0.  0.  0.  0.  1.  1.] [ 0.  0.  0.  0.  1.  0.] 1.0 2.0\n",
      "[ 0.  0.  0.  0.  0.  1.]\n",
      "[ 1.  1.  1.  0.  0.  0.]\n",
      "[ 0.  1.  0.  0.  0.  0.]\n",
      "[ 0.  0.  1.  0.  0.  0.]\n",
      "[ 0.  0.  0.  1.  0.  0.]\n",
      "[ 0.  0.  0.  0.  1.  1.]\n",
      "[ 0.  0.  0.  0.  0.  1.]\n",
      "here 4\n",
      "(3, 3.0, 1.0, 0.16666666666666666)\n",
      "has parent None\n",
      "match!\n",
      "add_nodes[ 0.  0.  0.  1.  1.  1.] [ 0.  0.  0.  0.  1.  1.] 3.0 1.0\n",
      "[ 0.  0.  0.  1.  0.  0.]\n",
      "[ 1.  1.  1.  0.  0.  0.]\n",
      "[ 0.  1.  0.  0.  0.  0.]\n",
      "[ 0.  0.  1.  0.  0.  0.]\n",
      "[ 0.  0.  0.  1.  0.  0.]\n",
      "[ 0.  0.  0.  1.  1.  1.]\n",
      "[ 0.  0.  0.  0.  0.  1.]\n",
      "here 4\n",
      "(2, 4.0, 2.0, 1.5)\n",
      "has parent <__main__.Cluster object at 0xb04645cc>\n",
      "match!\n",
      "add_nodes[ 0.  0.  1.  1.  1.  1.] [ 0.  0.  0.  1.  1.  1.] 4.0 2.0\n",
      "[ 0.  0.  1.  0.  0.  0.]\n",
      "[ 1.  1.  1.  0.  0.  0.]\n",
      "[ 0.  1.  0.  0.  0.  0.]\n",
      "[ 0.  0.  1.  0.  0.  0.]\n",
      "[ 0.  0.  0.  1.  0.  0.]\n",
      "[ 0.  0.  1.  1.  1.  1.]\n",
      "[ 0.  0.  0.  0.  0.  1.]\n",
      "[ 1.  1.  1.  0.  0.  0.]\n",
      "[ 0.  1.  0.  0.  0.  0.]\n",
      "[ 0.  0.  1.  0.  0.  0.]\n",
      "[ 0.  0.  0.  1.  0.  0.]\n",
      "[ 0.  0.  1.  1.  1.  1.]\n",
      "[ 0.  0.  0.  0.  0.  1.]\n"
     ]
    }
   ],
   "source": [
    "graph = np.array([[0,1,1,0,0,0],[1,0,1,0,0,0],[1,1,0,1,0,0],[0,0,1,0,1,1],[0,0,0,1,0,1],[0,0,0,1,1,0]])\n",
    "degrees = np.sum(graph, axis = 1) \n",
    "n = len(graph)\n",
    "all_nodes = np.eye(n)\n",
    "clusters = [Cluster(all_nodes[i],graph[i].astype(float),degrees) for i in range(n)]\n",
    "clustered = [0 for i in range(n)]\n",
    "for i in range(n):\n",
    "    print(clusters[i].nodes) \n",
    "where_we_are = [0]\n",
    "for i in range(7):\n",
    "    here = where_we_are[-1]\n",
    "    print(\"here\",here)\n",
    "    print(clusters[here].get_closest())\n",
    "    \n",
    "    next_node, next_area, next_perimeter, alpha = clusters[here].get_closest()\n",
    "    print(\"has parent\", clusters[next_node].parent)\n",
    "    if(clusters[next_node].parent == 1):\n",
    "        print(\"in if\")\n",
    "    else: \n",
    "        #print(\"else\", next_node)\n",
    "        #print(clusters[next_node].get_closest())\n",
    "        next_node_best, not_using, not_using2, not_using3 = clusters[next_node].get_closest()\n",
    "        if(clusters[here].nodes[next_node_best] == 1):\n",
    "            print(\"match!\")\n",
    "            clusters[here].add_nodes(clusters[next_node].nodes,clusters[next_node].weights)\n",
    "            clusters[here].add_node(next_node,graph[next_node].astype(float),next_area,next_perimeter)\n",
    "            \n",
    "            clusters[next_node].parent = clusters[here]\n",
    "            for i in range(n):\n",
    "                print(clusters[i].nodes)  \n",
    "            #clustered[next_node] = 1\n",
    "            #clustered[here] = 1\n",
    "        else:\n",
    "            print(\"havnt gotten here yet\")\n",
    "            where_we_are.append(next_node)\n",
    "            \n",
    "for i in range(n):\n",
    "    print(clusters[i].nodes)           "
   ]
  },
  {
   "cell_type": "code",
   "execution_count": 4,
   "metadata": {
    "collapsed": false
   },
   "outputs": [
    {
     "name": "stdout",
     "output_type": "stream",
     "text": [
      "Populating the interactive namespace from numpy and matplotlib\n"
     ]
    },
    {
     "name": "stderr",
     "output_type": "stream",
     "text": [
      "WARNING: pylab import has clobbered these variables: ['degrees']\n",
      "`%matplotlib` prevents importing * from pylab and numpy\n"
     ]
    }
   ],
   "source": [
    "import networkx as nx\n",
    "%pylab inline"
   ]
  },
  {
   "cell_type": "code",
   "execution_count": 5,
   "metadata": {
    "collapsed": false
   },
   "outputs": [
    {
     "data": {
      "image/png": "[encoded data removed]",
      "text/plain": [
       "<matplotlib.figure.Figure at 0xb0510c0c>"
      ]
     },
     "metadata": {},
     "output_type": "display_data"
    }
   ],
   "source": [
    "nx.draw(nx.watts_strogatz_graph(10,2,0.9))"
   ]
  },
  {
   "cell_type": "code",
   "execution_count": 6,
   "metadata": {
    "collapsed": false
   },
   "outputs": [
    {
     "data": {
      "image/png": "[encoded data removed]",
      "text/plain": [
       "<matplotlib.figure.Figure at 0xb042b44c>"
      ]
     },
     "metadata": {},
     "output_type": "display_data"
    }
   ],
   "source": [
    "seed(123)\n",
    "e_r_g = nx.erdos_renyi_graph(10, 0.3)\n",
    "nx.draw(e_r_g)"
   ]
  },
  {
   "cell_type": "code",
   "execution_count": 7,
   "metadata": {
    "collapsed": false
   },
   "outputs": [
    {
     "name": "stdout",
     "output_type": "stream",
     "text": [
      "[ 1.  0.  0.  0.  0.  0.  0.  0.  0.  0.]\n",
      "[ 0.  1.  0.  0.  0.  0.  0.  0.  0.  0.]\n",
      "[ 0.  0.  1.  0.  0.  0.  0.  0.  0.  0.]\n",
      "[ 0.  0.  0.  1.  0.  0.  0.  0.  0.  0.]\n",
      "[ 0.  0.  0.  0.  1.  0.  0.  0.  0.  0.]\n",
      "[ 0.  0.  0.  0.  0.  1.  0.  0.  0.  0.]\n",
      "[ 0.  0.  0.  0.  0.  0.  1.  0.  0.  0.]\n",
      "[ 0.  0.  0.  0.  0.  0.  0.  1.  0.  0.]\n",
      "[ 0.  0.  0.  0.  0.  0.  0.  0.  1.  0.]\n",
      "[ 0.  0.  0.  0.  0.  0.  0.  0.  0.  1.]\n",
      "here 0\n",
      "(4, 1.0, 4.0, 0.0)\n",
      "has parent None\n",
      "match!\n",
      "[ 1.  0.  0.  0.  1.  0.  0.  0.  0.  0.]\n",
      "[ 0.  1.  0.  0.  0.  0.  0.  0.  0.  0.]\n",
      "[ 0.  0.  1.  0.  0.  0.  0.  0.  0.  0.]\n",
      "[ 0.  0.  0.  1.  0.  0.  0.  0.  0.  0.]\n",
      "[ 0.  0.  0.  0.  1.  0.  0.  0.  0.  0.]\n",
      "[ 0.  0.  0.  0.  0.  1.  0.  0.  0.  0.]\n",
      "[ 0.  0.  0.  0.  0.  0.  1.  0.  0.  0.]\n",
      "[ 0.  0.  0.  0.  0.  0.  0.  1.  0.  0.]\n",
      "[ 0.  0.  0.  0.  0.  0.  0.  0.  1.  0.]\n",
      "[ 0.  0.  0.  0.  0.  0.  0.  0.  0.  1.]\n",
      "here 0\n",
      "(5, 2.0, 5.0, 0.625)\n",
      "has parent None\n",
      "match!\n",
      "[ 1.  0.  0.  0.  1.  1.  0.  0.  0.  0.]\n",
      "[ 0.  1.  0.  0.  0.  0.  0.  0.  0.  0.]\n",
      "[ 0.  0.  1.  0.  0.  0.  0.  0.  0.  0.]\n",
      "[ 0.  0.  0.  1.  0.  0.  0.  0.  0.  0.]\n",
      "[ 0.  0.  0.  0.  1.  0.  0.  0.  0.  0.]\n",
      "[ 0.  0.  0.  0.  0.  1.  0.  0.  0.  0.]\n",
      "[ 0.  0.  0.  0.  0.  0.  1.  0.  0.  0.]\n",
      "[ 0.  0.  0.  0.  0.  0.  0.  1.  0.  0.]\n",
      "[ 0.  0.  0.  0.  0.  0.  0.  0.  1.  0.]\n",
      "[ 0.  0.  0.  0.  0.  0.  0.  0.  0.  1.]\n",
      "here 0\n",
      "(3, 4.0, 7.0, 0.69999999999999996)\n",
      "has parent None\n",
      "havnt gotten here yet\n",
      "here 3\n",
      "(1, 1.0, 5.0, 0.0)\n",
      "has parent None\n",
      "match!\n",
      "[ 1.  0.  0.  0.  1.  1.  0.  0.  0.  0.]\n",
      "[ 0.  1.  0.  0.  0.  0.  0.  0.  0.  0.]\n",
      "[ 0.  0.  1.  0.  0.  0.  0.  0.  0.  0.]\n",
      "[ 0.  1.  0.  1.  0.  0.  0.  0.  0.  0.]\n",
      "[ 0.  0.  0.  0.  1.  0.  0.  0.  0.  0.]\n",
      "[ 0.  0.  0.  0.  0.  1.  0.  0.  0.  0.]\n",
      "[ 0.  0.  0.  0.  0.  0.  1.  0.  0.  0.]\n",
      "[ 0.  0.  0.  0.  0.  0.  0.  1.  0.  0.]\n",
      "[ 0.  0.  0.  0.  0.  0.  0.  0.  1.  0.]\n",
      "[ 0.  0.  0.  0.  0.  0.  0.  0.  0.  1.]\n",
      "here 3\n",
      "(4, 2.0, 6.0, 0.59999999999999998)\n",
      "has parent <__main__.Cluster object at 0xb042bb2c>\n",
      "match!\n",
      "[ 1.  0.  0.  0.  1.  1.  0.  0.  0.  0.]\n",
      "[ 0.  1.  0.  0.  0.  0.  0.  0.  0.  0.]\n",
      "[ 0.  0.  1.  0.  0.  0.  0.  0.  0.  0.]\n",
      "[ 0.  1.  0.  1.  1.  0.  0.  0.  0.  0.]\n",
      "[ 0.  0.  0.  0.  1.  0.  0.  0.  0.  0.]\n",
      "[ 0.  0.  0.  0.  0.  1.  0.  0.  0.  0.]\n",
      "[ 0.  0.  0.  0.  0.  0.  1.  0.  0.  0.]\n",
      "[ 0.  0.  0.  0.  0.  0.  0.  1.  0.  0.]\n",
      "[ 0.  0.  0.  0.  0.  0.  0.  0.  1.  0.]\n",
      "[ 0.  0.  0.  0.  0.  0.  0.  0.  0.  1.]\n",
      "here 3\n",
      "(5, 4.0, 5.0, 0.41666666666666669)\n",
      "has parent <__main__.Cluster object at 0xb042bb2c>\n",
      "match!\n",
      "[ 1.  0.  0.  0.  1.  1.  0.  0.  0.  0.]\n",
      "[ 0.  1.  0.  0.  0.  0.  0.  0.  0.  0.]\n",
      "[ 0.  0.  1.  0.  0.  0.  0.  0.  0.  0.]\n",
      "[ 0.  1.  0.  1.  1.  1.  0.  0.  0.  0.]\n",
      "[ 0.  0.  0.  0.  1.  0.  0.  0.  0.  0.]\n",
      "[ 0.  0.  0.  0.  0.  1.  0.  0.  0.  0.]\n",
      "[ 0.  0.  0.  0.  0.  0.  1.  0.  0.  0.]\n",
      "[ 0.  0.  0.  0.  0.  0.  0.  1.  0.  0.]\n",
      "[ 0.  0.  0.  0.  0.  0.  0.  0.  1.  0.]\n",
      "[ 0.  0.  0.  0.  0.  0.  0.  0.  0.  1.]\n",
      "here 3\n",
      "(7, 6.0, 5.0, 0.66666666666666663)\n",
      "has parent None\n",
      "match!\n",
      "[ 1.  0.  0.  0.  1.  1.  0.  0.  0.  0.]\n",
      "[ 0.  1.  0.  0.  0.  0.  0.  0.  0.  0.]\n",
      "[ 0.  0.  1.  0.  0.  0.  0.  0.  0.  0.]\n",
      "[ 0.  1.  0.  1.  1.  1.  0.  1.  0.  0.]\n",
      "[ 0.  0.  0.  0.  1.  0.  0.  0.  0.  0.]\n",
      "[ 0.  0.  0.  0.  0.  1.  0.  0.  0.  0.]\n",
      "[ 0.  0.  0.  0.  0.  0.  1.  0.  0.  0.]\n",
      "[ 0.  0.  0.  0.  0.  0.  0.  1.  0.  0.]\n",
      "[ 0.  0.  0.  0.  0.  0.  0.  0.  1.  0.]\n",
      "[ 0.  0.  0.  0.  0.  0.  0.  0.  0.  1.]\n",
      "here 3\n",
      "(8, 8.0, 5.0, 0.75)\n",
      "has parent None\n",
      "havnt gotten here yet\n",
      "here 8\n",
      "(2, 1.0, 4.0, 0.0)\n",
      "has parent None\n",
      "havnt gotten here yet\n",
      "[ 1.  0.  0.  0.  1.  1.  0.  0.  0.  0.]\n",
      "[ 0.  1.  0.  0.  0.  0.  0.  0.  0.  0.]\n",
      "[ 0.  0.  1.  0.  0.  0.  0.  0.  0.  0.]\n",
      "[ 0.  1.  0.  1.  1.  1.  0.  1.  0.  0.]\n",
      "[ 0.  0.  0.  0.  1.  0.  0.  0.  0.  0.]\n",
      "[ 0.  0.  0.  0.  0.  1.  0.  0.  0.  0.]\n",
      "[ 0.  0.  0.  0.  0.  0.  1.  0.  0.  0.]\n",
      "[ 0.  0.  0.  0.  0.  0.  0.  1.  0.  0.]\n",
      "[ 0.  0.  0.  0.  0.  0.  0.  0.  1.  0.]\n",
      "[ 0.  0.  0.  0.  0.  0.  0.  0.  0.  1.]\n"
     ]
    }
   ],
   "source": [
    "graph = array(nx.adjacency_matrix(e_r_g))\n",
    "#graph = np.array([[0,1,1,0,0,0],[1,0,1,0,0,0],[1,1,0,1,0,0],[0,0,1,0,1,1],[0,0,0,1,0,1],[0,0,0,1,1,0]])\n",
    "degrees = np.sum(graph, axis = 1) \n",
    "n = len(graph)\n",
    "all_nodes = np.eye(n)\n",
    "clusters = [Cluster(all_nodes[i],graph[i].astype(float),degrees) for i in range(n)]\n",
    "clustered = [0 for i in range(n)]\n",
    "for i in range(n):\n",
    "    print(clusters[i].nodes) \n",
    "where_we_are = [0]\n",
    "for i in range(9):\n",
    "    here = where_we_are[-1]\n",
    "    print(\"here\",here)\n",
    "    print(clusters[here].get_closest())\n",
    "    \n",
    "    next_node, next_area, next_perimeter, alpha = clusters[here].get_closest()\n",
    "    print(\"has parent\", clusters[next_node].parent)\n",
    "    if(clusters[next_node].parent == 1):\n",
    "        print(\"in if\")\n",
    "    else: \n",
    "        #print(\"else\", next_node)\n",
    "        #print(clusters[next_node].get_closest())\n",
    "        next_node_best, not_using, not_using2, not_using3 = clusters[next_node].get_closest()\n",
    "        if(clusters[here].nodes[next_node_best] == 1):\n",
    "            print(\"match!\")\n",
    "            clusters[here].add_node(next_node,graph[next_node].astype(float),next_area,next_perimeter)\n",
    "            clusters[next_node].parent = clusters[here]\n",
    "            for i in range(n):\n",
    "                print(clusters[i].nodes)  \n",
    "            #clustered[next_node] = 1\n",
    "            #clustered[here] = 1\n",
    "        else:\n",
    "            print(\"havnt gotten here yet\")\n",
    "            where_we_are.append(next_node)\n",
    "            \n",
    "for i in range(n):\n",
    "    print(clusters[i].nodes)           \n"
   ]
  },
  {
   "cell_type": "code",
   "execution_count": null,
   "metadata": {
    "collapsed": true
   },
   "outputs": [],
   "source": []
  }
 ],
 "metadata": {
  "kernelspec": {
   "display_name": "Python 3",
   "language": "python",
   "name": "python3"
  },
  "language_info": {
   "codemirror_mode": {
    "name": "ipython",
    "version": 3
   },
   "file_extension": ".py",
   "mimetype": "text/x-python",
   "name": "python",
   "nbconvert_exporter": "python",
   "pygments_lexer": "ipython3",
   "version": "3.4.1"
  }
 },
 "nbformat": 4,
 "nbformat_minor": 0
}
