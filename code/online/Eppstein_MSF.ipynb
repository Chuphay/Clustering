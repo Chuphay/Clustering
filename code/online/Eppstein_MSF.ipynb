{
 "cells": [
  {
   "cell_type": "code",
   "execution_count": 1,
   "metadata": {
    "collapsed": false
   },
   "outputs": [],
   "source": [
    "#See http://www.greenteapress.com/complexity/thinkcomplexity.pdf\n",
    "#for documentation\n",
    "\n",
    "class Graph(dict):   \n",
    "    def __init__(self, vs = [], es = []):       \n",
    "        for v in vs:\n",
    "            self.__add_vertex(v) \n",
    "        \n",
    "        for e in es:\n",
    "            self.__add_edge(e) \n",
    "            \n",
    "        #Build the vertex tree\n",
    "        self.vertex_tree = vs   \n",
    "            \n",
    "    def __add_vertex(self,v):        \n",
    "        self[v] = {}   \n",
    "        \n",
    "    def __add_edge(self,e):       \n",
    "        v, x, w = e\n",
    "        self[v][x] = e\n",
    "        self[x][v] = e\n",
    "        \n",
    "\n",
    "\n",
    "class Vertex(object):\n",
    "    def __init__(self, label = ''):\n",
    "        self.label = label\n",
    "    def __repr__(self):\n",
    "        return \"Vertex({0})\".format(self.label)\n",
    "    #__str__ = __repr__\n",
    "    \n",
    "class Edge(tuple):\n",
    "    def __new__(cls, v1, v2, w = 1):\n",
    "        return tuple.__new__(cls, (v1, v2, w))\n",
    "    def __repr__(self):\n",
    "        return \"Edge({0}, {1}) with weight {2}\".format(self[0],self[1], self[2])\n",
    "    #__str__ = __repr__\n",
    "    "
   ]
  },
  {
   "cell_type": "code",
   "execution_count": 2,
   "metadata": {
    "collapsed": false
   },
   "outputs": [],
   "source": [
    "def __check_power_2(self):\n",
    "    n = len(self)\n",
    "    check = 1\n",
    "    while True:\n",
    "        if(n == check):\n",
    "            return True\n",
    "        elif(n < check):\n",
    "            return False\n",
    "        else:\n",
    "            check = check << 1  \n",
    "            \n",
    "Graph.__check_power_2 = __check_power_2            "
   ]
  },
  {
   "cell_type": "code",
   "execution_count": 3,
   "metadata": {
    "collapsed": false
   },
   "outputs": [],
   "source": [
    "def get_vs_in_group(self, level, group):\n",
    "    assert(self.__check_power_2()), \"Not a power of 2\"\n",
    "    l = 1 << level\n",
    "    n = len(self)\n",
    "    size = n//l\n",
    "    return self.vertex_tree[group*size : (group+1)*size]\n",
    "\n",
    "Graph.get_vs_in_group = get_vs_in_group "
   ]
  },
  {
   "cell_type": "code",
   "execution_count": 4,
   "metadata": {
    "collapsed": false
   },
   "outputs": [
    {
     "name": "stdout",
     "output_type": "stream",
     "text": [
      "Vertex(x)\n",
      "Edge(Vertex(x), Vertex(y)) with weight 1\n",
      "{Vertex(y): {Vertex(x): Edge(Vertex(x), Vertex(y)) with weight 1}, Vertex(x): {Vertex(y): Edge(Vertex(x), Vertex(y)) with weight 1}}\n"
     ]
    },
    {
     "data": {
      "text/plain": [
       "[Vertex(m), Vertex(n), Vertex(o), Vertex(p)]"
      ]
     },
     "execution_count": 4,
     "metadata": {},
     "output_type": "execute_result"
    }
   ],
   "source": [
    "x = Vertex(\"x\")\n",
    "y = Vertex(\"y\")\n",
    "z = Vertex(\"z\")\n",
    "a = Vertex(\"a\")\n",
    "b = Vertex(\"b\")\n",
    "c = Vertex(\"c\")\n",
    "d = Vertex(\"d\")\n",
    "e = Vertex(\"e\")\n",
    "f = Vertex(\"f\")\n",
    "g = Vertex(\"g\")\n",
    "h = Vertex(\"h\")\n",
    "i = Vertex(\"i\")\n",
    "j = Vertex(\"j\")\n",
    "k = Vertex(\"k\")\n",
    "l = Vertex(\"l\")\n",
    "m = Vertex(\"m\")\n",
    "n = Vertex(\"n\")\n",
    "o = Vertex(\"o\")\n",
    "p = Vertex(\"p\")\n",
    "\n",
    "e1 = Edge(a,c,4)\n",
    "e2 = Edge(a,d,8)\n",
    "e3 = Edge(b,e,12)\n",
    "e4 = Edge(e,f,18)\n",
    "e5 = Edge(g,h,22)\n",
    "\n",
    "print(x)\n",
    "E = Edge(x,y)\n",
    "print(E)\n",
    "G = Graph([x,y],[E])\n",
    "print(G)\n",
    "g3 = Graph([a,b,c,d,e,f,g,h,i,j,k,l,m,n,o,p])\n",
    "get_vs_in_group(g3, 2, 3)  "
   ]
  },
  {
   "cell_type": "code",
   "execution_count": 5,
   "metadata": {
    "collapsed": false
   },
   "outputs": [
    {
     "data": {
      "text/plain": [
       "{'children': [{'children': [{'children': [],\n",
       "     'edges': [],\n",
       "     'vs': [Vertex(a)],\n",
       "     'ws': [Vertex(e)]},\n",
       "    {'children': [], 'edges': [], 'vs': [Vertex(a)], 'ws': [Vertex(f)]},\n",
       "    {'children': [],\n",
       "     'edges': [Edge(Vertex(b), Vertex(e)) with weight 12],\n",
       "     'vs': [Vertex(b)],\n",
       "     'ws': [Vertex(e)]},\n",
       "    {'children': [], 'edges': [], 'vs': [Vertex(b)], 'ws': [Vertex(f)]}],\n",
       "   'edges': [Edge(Vertex(b), Vertex(e)) with weight 12],\n",
       "   'vs': [Vertex(a), Vertex(b)],\n",
       "   'ws': [Vertex(e), Vertex(f)]},\n",
       "  {'children': [],\n",
       "   'edges': [],\n",
       "   'vs': [Vertex(a), Vertex(b)],\n",
       "   'ws': [Vertex(g), Vertex(h)]},\n",
       "  {'children': [],\n",
       "   'edges': [],\n",
       "   'vs': [Vertex(c), Vertex(d)],\n",
       "   'ws': [Vertex(e), Vertex(f)]},\n",
       "  {'children': [],\n",
       "   'edges': [],\n",
       "   'vs': [Vertex(c), Vertex(d)],\n",
       "   'ws': [Vertex(g), Vertex(h)]}],\n",
       " 'edges': [Edge(Vertex(b), Vertex(e)) with weight 12],\n",
       " 'vs': [Vertex(a), Vertex(b), Vertex(c), Vertex(d)],\n",
       " 'ws': [Vertex(e), Vertex(f), Vertex(g), Vertex(h)]}"
      ]
     },
     "execution_count": 5,
     "metadata": {},
     "output_type": "execute_result"
    }
   ],
   "source": [
    "def make_edge_node(self, vs, ws):\n",
    "    tree = {\"edges\":[], \"children\":[],\"vs\":vs,\"ws\":ws}\n",
    "    for v in vs:\n",
    "        for w in ws:\n",
    "            edge = self[v].get(w)\n",
    "            if(edge and (edge not in tree[\"edges\"])):\n",
    "                tree[\"edges\"].append(self[v].get(w))\n",
    "    return tree\n",
    "Graph.make_edge_node = make_edge_node\n",
    "       \n",
    "\n",
    "def make_e_p_t(self, vs, ws):\n",
    "    \"\"\"Make Edge Partition Tree\"\"\"\n",
    "    assert(self.__check_power_2()), \"Not a power of 2\"\n",
    "    out = self.make_edge_node(vs,ws)\n",
    "    n = len(vs)\n",
    "    if((len(out[\"edges\"]) != 0) and (n>1)):\n",
    "        if(vs == ws):\n",
    "            a = vs[:n//2]\n",
    "            b = vs[n//2:]\n",
    "            out[\"children\"] = [self.make_e_p_t(a,a),self.make_e_p_t(a,b), self.make_e_p_t(b,b)]\n",
    "        else:\n",
    "            a = vs[:n//2]\n",
    "            b = vs[n//2:]\n",
    "            c = ws[:n//2]\n",
    "            d = ws[n//2:]\n",
    "            out[\"children\"] = [self.make_e_p_t(a,c),self.make_e_p_t(a,d), self.make_e_p_t(b,c),self.make_e_p_t(b,d)]\n",
    "    return out\n",
    "Graph.make_e_p_t = make_e_p_t    \n",
    "\n",
    "\n",
    "g4 = Graph([a,b,c,d,e,f,g,h],[e1,e2,e3,e4,e5])\n",
    "top = g4.get_vs_in_group(0,0)\n",
    "edge_partition_tree = make_e_p_t(g4, top, top)\n",
    "edge_partition_tree[\"children\"][1]"
   ]
  },
  {
   "cell_type": "code",
   "execution_count": null,
   "metadata": {
    "collapsed": true
   },
   "outputs": [],
   "source": []
  }
 ],
 "metadata": {
  "kernelspec": {
   "display_name": "Python 3",
   "language": "python",
   "name": "python3"
  },
  "language_info": {
   "codemirror_mode": {
    "name": "ipython",
    "version": 3
   },
   "file_extension": ".py",
   "mimetype": "text/x-python",
   "name": "python",
   "nbconvert_exporter": "python",
   "pygments_lexer": "ipython3",
   "version": "3.4.1"
  }
 },
 "nbformat": 4,
 "nbformat_minor": 0
}
