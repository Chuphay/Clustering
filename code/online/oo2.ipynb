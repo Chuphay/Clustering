{
 "cells": [
  {
   "cell_type": "code",
   "execution_count": 1,
   "metadata": {
    "collapsed": true
   },
   "outputs": [],
   "source": [
    "import numpy as np"
   ]
  },
  {
   "cell_type": "code",
   "execution_count": 2,
   "metadata": {
    "collapsed": true
   },
   "outputs": [],
   "source": [
    "class Cluster(object):\n",
    "    def __init__(self, nodes, weights, degrees, perimeter = None, area = None):\n",
    "        self.nodes = nodes.astype(float)\n",
    "        self.weights = weights.astype(float)\n",
    "        self.degrees = degrees #this never changes       \n",
    "        if(perimeter == None):\n",
    "            self.perimeter = sum(self.weights)\n",
    "        else:\n",
    "            self.perimeter = perimeter\n",
    "        if(area == None):\n",
    "            self.area = 0\n",
    "        else:\n",
    "            self.area = area\n",
    "            \n",
    "    def get_closest(self):\n",
    "        temp_perimeter = self.perimeter - 2*self.weights + self.degrees\n",
    "        temp_area = self.area + self.weights\n",
    "        ratios = temp_area / (temp_perimeter + 0.000001) \n",
    "        next_vertex = np.argmax(ratios * np.logical_not(self.nodes))\n",
    "        this_alpha = (self.area*temp_perimeter[next_vertex])/(self.perimeter*temp_area[next_vertex]) \n",
    "        return (next_vertex, temp_area[next_vertex], temp_perimeter[next_vertex], this_alpha)\n",
    "    \n",
    "    def add_node(self, node, weight, temp_area, temp_perimeter):\n",
    "        self.nodes[node] = 1\n",
    "        self.weights += weight.astype(float)\n",
    "        self.perimeter = temp_perimeter\n",
    "        self.area = temp_area\n",
    "        "
   ]
  },
  {
   "cell_type": "code",
   "execution_count": 3,
   "metadata": {
    "collapsed": false
   },
   "outputs": [
    {
     "data": {
      "text/plain": [
       "array([2, 2, 3, 3, 2, 2])"
      ]
     },
     "execution_count": 3,
     "metadata": {},
     "output_type": "execute_result"
    }
   ],
   "source": [
    "graph = np.array([[0,1,1,0,0,0],[1,0,1,0,0,0],[1,1,0,1,0,0],[0,0,1,0,1,1],[0,0,0,1,0,1],[0,0,0,1,1,0]])\n",
    "degrees = np.sum(graph, axis = 1) \n",
    "degrees"
   ]
  },
  {
   "cell_type": "code",
   "execution_count": 13,
   "metadata": {
    "collapsed": false
   },
   "outputs": [
    {
     "name": "stdout",
     "output_type": "stream",
     "text": [
      "here 0\n",
      "(1, 1.0, 2.0, 0.0)\n",
      "(0, 1.0, 2.0, 0.0)\n",
      "here 0\n",
      "(2, 3.0, 1.0, 0.16666666666666666)\n",
      "(0, 1.0, 3.0, 0.0)\n",
      "here 0\n",
      "(3, 4.0, 2.0, 1.5)\n",
      "(4, 1.0, 3.0, 0.0)\n",
      "here 3\n",
      "(4, 1.0, 3.0, 0.0)\n",
      "(5, 1.0, 2.0, 0.0)\n",
      "here 4\n",
      "(5, 1.0, 2.0, 0.0)\n",
      "(4, 1.0, 2.0, 0.0)\n",
      "here 4\n",
      "(3, 3.0, 1.0, 0.16666666666666666)\n",
      "(4, 1.0, 3.0, 0.0)\n",
      "here 4\n",
      "(2, 4.0, 2.0, 1.5)\n",
      "in if\n",
      "here 4\n",
      "(2, 4.0, 2.0, 1.5)\n",
      "in if\n",
      "[ 1.  1.  1.  0.  0.  0.]\n",
      "[ 0.  1.  0.  0.  0.  0.]\n",
      "[ 0.  0.  1.  0.  0.  0.]\n",
      "[ 0.  0.  0.  1.  0.  0.]\n",
      "[ 0.  0.  0.  1.  1.  1.]\n",
      "[ 0.  0.  0.  0.  0.  1.]\n"
     ]
    }
   ],
   "source": [
    "n = len(graph)\n",
    "all_nodes = np.eye(n)\n",
    "clusters = [Cluster(all_nodes[i],graph[i].astype(float),degrees) for i in range(n)]\n",
    "clustered = [0 for i in range(n)]\n",
    "\n",
    "where_we_are = [0]\n",
    "for i in range(8):\n",
    "    here = where_we_are[-1]\n",
    "    print(\"here\",here)\n",
    "    print(clusters[here].get_closest())\n",
    "    next_node, next_area, next_perimeter, alpha = clusters[here].get_closest()\n",
    "    if(clustered[next_node] == 1):\n",
    "        print(\"in if\")\n",
    "    else: #print(\"else\", next_node)\n",
    "        print(clusters[next_node].get_closest())\n",
    "        next_node_best, not_using, not_using2, not_using3 = clusters[next_node].get_closest()\n",
    "        if(clusters[here].nodes[next_node_best] == 1):\n",
    "            #print(\"match!\")\n",
    "            clusters[here].add_node(next_node,graph[next_node].astype(float),next_area,next_perimeter)\n",
    "            clustered[next_node] = 1\n",
    "            clustered[here] = 1\n",
    "        else:\n",
    "            #print(\"havnt gotten here yet\")\n",
    "            where_we_are.append(next_node)\n",
    "            \n",
    "for i in range(n):\n",
    "    print(clusters[i].nodes)           "
   ]
  },
  {
   "cell_type": "code",
   "execution_count": 9,
   "metadata": {
    "collapsed": false
   },
   "outputs": [
    {
     "name": "stdout",
     "output_type": "stream",
     "text": [
      "[ 1.  1.  1.  0.  0.  0.]\n",
      "[ 0.  1.  0.  0.  0.  0.]\n",
      "[ 0.  0.  1.  0.  0.  0.]\n",
      "[ 0.  0.  0.  1.  0.  0.]\n",
      "[ 0.  0.  0.  1.  1.  1.]\n",
      "[ 0.  0.  0.  0.  0.  1.]\n"
     ]
    }
   ],
   "source": [
    "for i in range(n):\n",
    "    print(clusters[i].nodes)"
   ]
  },
  {
   "cell_type": "code",
   "execution_count": null,
   "metadata": {
    "collapsed": true
   },
   "outputs": [],
   "source": []
  }
 ],
 "metadata": {
  "kernelspec": {
   "display_name": "Python 3",
   "language": "python",
   "name": "python3"
  },
  "language_info": {
   "codemirror_mode": {
    "name": "ipython",
    "version": 3
   },
   "file_extension": ".py",
   "mimetype": "text/x-python",
   "name": "python",
   "nbconvert_exporter": "python",
   "pygments_lexer": "ipython3",
   "version": "3.4.1"
  }
 },
 "nbformat": 4,
 "nbformat_minor": 0
}
