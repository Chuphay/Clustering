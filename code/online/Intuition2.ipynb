{
 "cells": [
  {
   "cell_type": "code",
   "execution_count": 1,
   "metadata": {
    "collapsed": false
   },
   "outputs": [
    {
     "name": "stdout",
     "output_type": "stream",
     "text": [
      "Populating the interactive namespace from numpy and matplotlib\n"
     ]
    }
   ],
   "source": [
    "%pylab inline\n",
    "import networkx as nx"
   ]
  },
  {
   "cell_type": "code",
   "execution_count": 2,
   "metadata": {
    "collapsed": false
   },
   "outputs": [
    {
     "data": {
      "image/png": "[encoded data removed]",
      "text/plain": [
       "<matplotlib.figure.Figure at 0xb043a94c>"
      ]
     },
     "metadata": {},
     "output_type": "display_data"
    }
   ],
   "source": [
    "a = array([[0,1,1,0,0,0],[1,0,1,0,0,0],[1,1,0,1,0,0],[0,0,1,0,1,1],[0,0,0,1,0,1],[0,0,0,1,1,0]])\n",
    "G = nx.Graph(a)\n",
    "nx.draw(G)"
   ]
  },
  {
   "cell_type": "code",
   "execution_count": 61,
   "metadata": {
    "collapsed": false
   },
   "outputs": [
    {
     "name": "stdout",
     "output_type": "stream",
     "text": [
      "next vertex: 1 [ 1.  1.  1.  1.  1.  1.]\n",
      "alpha 0.0 new ratio 0.5\n",
      "not in the cluster!!!!\n",
      "next vertex: 0 [ True  True  True  True  True  True]\n",
      "alpha 0.0 new ratio 0.5\n",
      "ok, we have a hit\n",
      "unclassified [False False  True  True  True  True] [ 1.  1.  0.  0.  0.  0.] [ True  True False False False False]\n",
      "EQUAL!!!!\n",
      "next vertex: 2 [False False  True  True  True  True]\n",
      "alpha 0.166666666667 new ratio 3.0\n",
      "not in the cluster!!!!\n",
      "next vertex: 3 [False False  True  True  True  True]\n",
      "alpha 0.0 new ratio 0.25\n",
      "not in the cluster!!!!\n",
      "next vertex: 4 [False False  True  True  True  True]\n",
      "alpha 0.0 new ratio 0.333333333333\n",
      "not in the cluster!!!!\n",
      "next vertex: 5 [False False  True  True  True  True]\n",
      "alpha 0.0 new ratio 0.5\n",
      "not in the cluster!!!!\n",
      "next vertex: 4 [False False  True  True  True  True]\n",
      "alpha 0.0 new ratio 0.5\n",
      "ok, we have a hit\n",
      "unclassified [False False  True  True False False] [ 1.  1.  1.  1.  1.  1.] [ True  True False False  True  True]\n",
      "next vertex: 3 [False False  True  True False False]\n",
      "alpha 0.166666666667 new ratio 3.0\n",
      "ok, we have a hit\n",
      "unclassified [False False  True False False False] [ 1.  1.  1.  1.  1.  1.] [ True  True False  True  True  True]\n",
      "next vertex: 2 [False False  True False False False]\n",
      "alpha 1.5 new ratio 2.0\n",
      "alpha too big, ending\n",
      "still unraveling and unclassified [False False  True False False False] [ 1.  1.  1.  1.  1.  1.]\n",
      "still unraveling and unclassified [False False  True False False False] [ 1.  1.  1.  1.  1.  1.]\n",
      "still unraveling and unclassified [False False  True False False False] [ 1.  1.  1.  1.  1.  1.]\n",
      "still unraveling and unclassified [False False  True False False False] [ 1.  1.  1.  1.  1.  1.]\n",
      "still unraveling and unclassified [False False  True False False False] [ 1.  1.  1.  1.  1.  1.]\n"
     ]
    },
    {
     "data": {
      "text/plain": [
       "array([ True,  True, False,  True,  True,  True], dtype=bool)"
      ]
     },
     "execution_count": 61,
     "metadata": {},
     "output_type": "execute_result"
    }
   ],
   "source": [
    "def cluster(vertex, graph, alpha = 1, classified = None, my_cluster = None):\n",
    "    #print(\"stop\", stop)\n",
    "    \n",
    "    n = graph.shape[0]\n",
    "    internal_weights = graph[vertex].astype(float)    \n",
    "    degrees = sum(graph, axis = 1)\n",
    "    perimeter = sum(internal_weights)\n",
    "    \n",
    "    if (classified is None):\n",
    "        unclassified = ones(n)\n",
    "    else:\n",
    "        unclassified = np.logical_not(classified)\n",
    "    if (my_cluster is None):\n",
    "        my_cluster = zeros(n)\n",
    "    my_cluster[vertex] = 1\n",
    "    #print(\"my_cluster\",vertex, my_cluster)    \n",
    "        \n",
    "    #unclassified[vertex] = 0\n",
    "    area = internal_weights[vertex]\n",
    "    \n",
    "    while (sum(unclassified) >0): \n",
    "        temp_perimeter = perimeter - 2*internal_weights + degrees\n",
    "        temp_area = area + internal_weights\n",
    "        ratios = temp_area / (temp_perimeter + 0.000001) \n",
    "        next_vertex = np.argmax(ratios * unclassified)\n",
    "        print(\"next vertex:\",next_vertex, unclassified)\n",
    "        this_alpha = (area*temp_perimeter[next_vertex])/(perimeter*temp_area[next_vertex]) \n",
    "        print(\"alpha\", this_alpha, \"new ratio\", temp_area[next_vertex]/temp_perimeter[next_vertex])\n",
    "        if (this_alpha > alpha):\n",
    "            print(\"alpha too big, ending\")\n",
    "            break\n",
    "        if (my_cluster[next_vertex] == 0):\n",
    "            print(\"not in the cluster!!!!\")\n",
    "            temp_out = cluster(next_vertex, graph, alpha,\\\n",
    "                               classified = np.logical_not(unclassified),my_cluster = my_cluster)\n",
    "            #print(\"temp_out\", temp_out)\n",
    "            unclassified = np.logical_not(np.logical_or(temp_out,np.logical_not(unclassified)))\n",
    "            print(\"still unraveling and unclassified\", unclassified, my_cluster)\n",
    "            break\n",
    "        else:\n",
    "            print(\"ok, we have a hit\")\n",
    "            #print(\"unclassified\", unclassified, my_cluster)\n",
    "            pass\n",
    "        unclassified[next_vertex] = 0\n",
    "        unclassified[vertex] = 0 #only necessary for the initial\n",
    "        internal_weights += graph[next_vertex]\n",
    "        perimeter = temp_perimeter[next_vertex]\n",
    "        area = temp_area[next_vertex]\n",
    "        print(\"unclassified\", unclassified, my_cluster, np.logical_not(unclassified))\n",
    "        if(np.dot(array(my_cluster),np.logical_not(unclassified)) == sum(my_cluster)):\n",
    "            print(\"EQUAL!!!!\")\n",
    "\n",
    "    return np.logical_not(unclassified)\n",
    "            \n",
    "A = array(nx.adjacency_matrix(G))\n",
    "\n",
    "this_cluster = cluster(0,A,1) \n",
    "this_cluster"
   ]
  },
  {
   "cell_type": "code",
   "execution_count": 88,
   "metadata": {
    "collapsed": false
   },
   "outputs": [
    {
     "name": "stdout",
     "output_type": "stream",
     "text": [
      "No cluster\n",
      "\n",
      "my_cluster 0 [ 1.  0.  0.  0.  0.  0.]\n",
      "classified from the top [ 0.  0.  0.  0.  0.  0.]\n",
      "classified from the while [ 1.  0.  0.  0.  0.  0.]\n",
      "classified [ 1.  0.  0.  0.  0.  0.] [ 1.  0.  0.  0.  0.  0.]\n",
      "cur vertex: 0 next vertex: 1 [ 1.  0.  0.  0.  0.  0.]\n",
      "alpha 0.0 new ratio 0.5\n",
      "not in the cluster!!!!, clustering on 1\n",
      "\n",
      "my_cluster 1 [ 1.  1.  0.  0.  0.  0.]\n",
      "classified from the top [ 0.  0.  0.  0.  0.  0.]\n",
      "\n",
      "backTracking\n",
      "\n",
      "classified from the while [ 0.  1.  0.  0.  0.  0.]\n",
      "classified [ 0.  1.  0.  0.  0.  0.] [ 1.  1.  0.  0.  0.  0.]\n",
      "cur vertex: 1 next vertex: 0 [ 0.  1.  0.  0.  0.  0.]\n",
      "alpha 0.0 new ratio 0.5\n",
      "ok, we have a hit\n",
      "classified [ 0.  1.  0.  0.  0.  0.] [ 1.  1.  0.  0.  0.  0.]\n",
      "classified [ 1.  1.  0.  0.  0.  0.] [ 1.  1.  0.  0.  0.  0.]\n",
      "hitting this return symbol, classified [ 1.  1.  0.  0.  0.  0.]\n",
      "temp_out [ 1.  1.  0.  0.  0.  0.]\n",
      "\n",
      "difference [False  True False False False False]\n",
      "\n",
      "classified [ 1.  0.  0.  0.  0.  0.] [ 1.  1.  0.  0.  0.  0.]\n",
      "1\n",
      "classified [ 1.  1.  0.  0.  0.  0.] [ 1.  1.  0.  0.  0.  0.]\n",
      "still unraveling and unclassified [ True  True False False False False] [ 1.  1.  0.  0.  0.  0.]\n",
      "classified [ True  True False False False False]\n",
      "classified from the while [ True  True False False False False]\n",
      "classified [ True  True False False False False] [ 1.  1.  0.  0.  0.  0.]\n",
      "cur vertex: 0 next vertex: 2 [ True  True False False False False]\n",
      "alpha 0.166666666667 new ratio 3.0\n",
      "not in the cluster!!!!, clustering on 2\n",
      "\n",
      "my_cluster 2 [ 1.  1.  1.  0.  0.  0.]\n",
      "classified from the top [ 0.  0.  0.  0.  0.  0.]\n",
      "\n",
      "backTracking\n",
      "\n",
      "classified from the while [ 0.  0.  1.  0.  0.  0.]\n",
      "classified [ 0.  0.  1.  0.  0.  0.] [ 1.  1.  1.  0.  0.  0.]\n",
      "cur vertex: 2 next vertex: 0 [ 0.  0.  1.  0.  0.  0.]\n",
      "alpha 0.0 new ratio 0.333333333333\n",
      "ok, we have a hit\n",
      "classified [ 0.  0.  1.  0.  0.  0.] [ 1.  1.  1.  0.  0.  0.]\n",
      "classified [ 1.  0.  1.  0.  0.  0.] [ 1.  1.  1.  0.  0.  0.]\n",
      "hitting this return symbol, classified [ 1.  0.  1.  0.  0.  0.]\n",
      "temp_out [ 1.  0.  1.  0.  0.  0.]\n",
      "\n",
      "difference [False False  True False False False]\n",
      "\n",
      "classified [ True  True False False False False] [ 1.  1.  1.  0.  0.  0.]\n",
      "2\n",
      "classified [ True  True  True False False False] [ 1.  1.  1.  0.  0.  0.]\n",
      "still unraveling and unclassified [ True  True  True False False False] [ 1.  1.  1.  0.  0.  0.]\n",
      "classified [ True  True  True False False False]\n",
      "classified from the while [ True  True  True False False False]\n",
      "classified [ True  True  True False False False] [ 1.  1.  1.  0.  0.  0.]\n",
      "cur vertex: 0 next vertex: 3 [ True  True  True False False False]\n",
      "alpha 1.5 new ratio 2.0\n",
      "alpha too big, ending\n",
      "hitting this return symbol, classified [ True  True  True False False False]\n"
     ]
    },
    {
     "data": {
      "text/plain": [
       "array([ True,  True,  True, False, False, False], dtype=bool)"
      ]
     },
     "execution_count": 88,
     "metadata": {},
     "output_type": "execute_result"
    }
   ],
   "source": [
    "def get_closest(vertex,n,internal_weights,area,degrees,perimeter, classified = None):\n",
    "    if (classified is None):\n",
    "        classified = zeros(n)    \n",
    "    temp_perimeter = perimeter - 2*internal_weights + degrees\n",
    "    temp_area = area + internal_weights\n",
    "    ratios = temp_area / (temp_perimeter + 0.000001) \n",
    "    next_vertex = np.argmax(ratios * (np.logical_not(classified)))\n",
    "    return next_vertex\n",
    "    \n",
    "\n",
    "def cluster3(vertex, graph, alpha = 1, classified = None, my_cluster = None, backTrack = False, stop = 10):\n",
    "    if(stop<=0):\n",
    "        print(\"stopping from recursion depth\")\n",
    "        return None\n",
    "    n = graph.shape[0]\n",
    "    internal_weights = graph[vertex].astype(float)    \n",
    "    degrees = sum(graph, axis = 1)\n",
    "    perimeter = sum(internal_weights)\n",
    "    \n",
    "    if (classified is None):\n",
    "        classified = zeros(n)\n",
    "       \n",
    "    else:\n",
    "        assert (len(classified) == n), \"fail\"\n",
    "\n",
    "\n",
    "    if (my_cluster is None):\n",
    "        print(\"No cluster\")\n",
    "        my_cluster = zeros(n)\n",
    "    my_cluster[vertex] = 1\n",
    "    print()\n",
    "    print(\"my_cluster\",vertex, my_cluster) \n",
    "    print(\"classified from the top\", classified) \n",
    "    if(backTrack):\n",
    "        print()\n",
    "        print(\"backTracking\")\n",
    "        print()\n",
    "    #unclassified[vertex] = 0\n",
    "    classified[vertex] = 1 #only necessary for the initial #hopefully\n",
    "    area = internal_weights[vertex]\n",
    "    \n",
    "    while (sum(classified) < n): \n",
    "        stop -= 1\n",
    "        if(stop < 0):\n",
    "            print(\"stopping in the while\")\n",
    "            break\n",
    "        print(\"classified from the while\", classified)\n",
    "        temp_perimeter = perimeter - 2*internal_weights + degrees\n",
    "        temp_area = area + internal_weights\n",
    "        ratios = temp_area / (temp_perimeter + 0.000001) \n",
    "        next_vertex = np.argmax(ratios * (np.logical_not(classified)))\n",
    "        #other_v = get_closest(vertex, graph)\n",
    "        print(\"classified\", classified, my_cluster)\n",
    "        print(\"cur vertex:\",vertex,\"next vertex:\",next_vertex, classified)\n",
    "        #print()\n",
    "        this_alpha = (area*temp_perimeter[next_vertex])/(perimeter*temp_area[next_vertex]) \n",
    "        print(\"alpha\", this_alpha, \"new ratio\", temp_area[next_vertex]/temp_perimeter[next_vertex])\n",
    "        if (this_alpha > alpha):\n",
    "            print(\"alpha too big, ending\")\n",
    "            break\n",
    "        if (my_cluster[next_vertex] == 0):\n",
    "            print(\"not in the cluster!!!!, clustering on\", next_vertex)\n",
    "            temp_out = cluster3(next_vertex, graph, alpha,\\\n",
    "                               classified = None,my_cluster = my_cluster, backTrack = True, stop = stop -1)\n",
    "            print(\"temp_out\", temp_out)\n",
    "            print()\n",
    "            difference = np.logical_and(temp_out ,np.logical_not(classified))\n",
    "            print(\"difference\",np.logical_and(temp_out ,np.logical_not(classified)))\n",
    "            print()\n",
    "            print(\"classified\", classified, my_cluster)\n",
    "            for i, e in enumerate(difference):\n",
    "                \n",
    "                if(e == 1):\n",
    "                    print(i)\n",
    "                \n",
    "            classified[next_vertex] = 1\n",
    "            #classified[vertex] = 1 #only necessary for the initial\n",
    "            print(\"classified\", classified, my_cluster)\n",
    "            internal_weights += graph[next_vertex]\n",
    "            perimeter = temp_perimeter[next_vertex]\n",
    "            area = temp_area[next_vertex]\n",
    "            \n",
    "            classified = (np.logical_or(temp_out,classified))\n",
    "            print(\"still unraveling and unclassified\", classified, my_cluster)\n",
    "            print(\"classified\", classified)\n",
    "            #break\n",
    "        else:\n",
    "            print(\"ok, we have a hit\")\n",
    "            \n",
    "            #pass\n",
    "            print(\"classified\", classified, my_cluster)\n",
    "            classified[next_vertex] = 1\n",
    "            \n",
    "            print(\"classified\", classified, my_cluster)\n",
    "            internal_weights += graph[next_vertex]\n",
    "            perimeter = temp_perimeter[next_vertex]\n",
    "            area = temp_area[next_vertex]\n",
    "            if(backTrack):\n",
    "                break\n",
    "  \n",
    "\n",
    "    print(\"hitting this return symbol, classified\", classified)\n",
    "    return classified\n",
    "            \n",
    "A = array(nx.adjacency_matrix(G))\n",
    "\n",
    "this_cluster = cluster3(0,A,1) \n",
    "this_cluster"
   ]
  },
  {
   "cell_type": "code",
   "execution_count": 93,
   "metadata": {
    "collapsed": false
   },
   "outputs": [
    {
     "name": "stdout",
     "output_type": "stream",
     "text": [
      "vertex 0 next vertex 1 alpha 0.0 1\n",
      "not classified\n",
      "vertex 0 next vertex 2 alpha 0.166666666667 2\n",
      "not classified\n",
      "vertex 0 next vertex 3 alpha 1.5 3\n"
     ]
    },
    {
     "data": {
      "text/plain": [
       "(array([1, 1, 1, 0, 0, 0]),\n",
       " 3.0,\n",
       " 1.0,\n",
       " array([ 2.,  2.,  2.,  1.,  0.,  0.]),\n",
       " 1.0)"
      ]
     },
     "execution_count": 93,
     "metadata": {},
     "output_type": "execute_result"
    }
   ],
   "source": [
    "def get_closest(vertex,n,internal_weights,area,degrees,perimeter, classified = None):\n",
    "    if (classified is None):\n",
    "        classified = zeros(n)    \n",
    "    temp_perimeter = perimeter - 2*internal_weights + degrees\n",
    "    temp_area = area + internal_weights\n",
    "    ratios = temp_area / (temp_perimeter + 0.000001) \n",
    "    next_vertex = np.argmax(ratios * (np.logical_not(classified)))\n",
    "    return next_vertex\n",
    "\n",
    "def cluster4(vertex, graph, alpha = 1, classified = None):\n",
    "    n = graph.shape[0]\n",
    "    if(classified is None):\n",
    "        classified = zeros(n)\n",
    "        \n",
    "    internal_weights = graph[vertex].astype(float)    \n",
    "    degrees = sum(graph, axis = 1)\n",
    "    perimeter = sum(internal_weights)\n",
    "    classified[vertex] = 1\n",
    "    area = internal_weights[vertex]\n",
    "    \n",
    "    while (sum(classified)<n): \n",
    "        temp_perimeter = perimeter - 2*internal_weights + degrees\n",
    "        temp_area = area + internal_weights\n",
    "        ratios = temp_area / (temp_perimeter + 0.000001) \n",
    "        next_vertex = np.argmax(ratios * np.logical_not(classified))      \n",
    "        this_alpha = (area*temp_perimeter[next_vertex])/(perimeter*temp_area[next_vertex])\n",
    "        other_v = get_closest(vertex,n,internal_weights,area,degrees,perimeter, classified)\n",
    "        print(\"vertex\", vertex, \"next vertex\", next_vertex, \"alpha\", this_alpha, other_v)\n",
    "        if(this_alpha >= alpha):\n",
    "            break\n",
    "        if(classified[next_vertex] == 0):\n",
    "            print(\"not classified\")\n",
    "        classified[next_vertex] = 1\n",
    "        internal_weights += graph[next_vertex]\n",
    "        perimeter = temp_perimeter[next_vertex]\n",
    "        area = temp_area[next_vertex]\n",
    "\n",
    "    return (classified, area, perimeter, internal_weights, perimeter)\n",
    "            \n",
    "A = array(nx.adjacency_matrix(G))\n",
    "#A = A + diag(ones(len(A)))\n",
    "this_cluster = cluster4(0,A,1, array([0,0,0,0,0,0])) \n",
    "this_cluster"
   ]
  },
  {
   "cell_type": "code",
   "execution_count": null,
   "metadata": {
    "collapsed": true
   },
   "outputs": [],
   "source": []
  }
 ],
 "metadata": {
  "kernelspec": {
   "display_name": "Python 3",
   "language": "python",
   "name": "python3"
  },
  "language_info": {
   "codemirror_mode": {
    "name": "ipython",
    "version": 3
   },
   "file_extension": ".py",
   "mimetype": "text/x-python",
   "name": "python",
   "nbconvert_exporter": "python",
   "pygments_lexer": "ipython3",
   "version": "3.4.1"
  }
 },
 "nbformat": 4,
 "nbformat_minor": 0
}
