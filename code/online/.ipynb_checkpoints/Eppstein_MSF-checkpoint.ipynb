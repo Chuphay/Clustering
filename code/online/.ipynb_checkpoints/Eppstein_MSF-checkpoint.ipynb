{
 "cells": [
  {
   "cell_type": "code",
   "execution_count": 38,
   "metadata": {
    "collapsed": false
   },
   "outputs": [],
   "source": [
    "#See http://www.greenteapress.com/complexity/thinkcomplexity.pdf\n",
    "#for documentation\n",
    "\n",
    "class Graph(dict):   \n",
    "    def __init__(self, vs = [], es = []):       \n",
    "        for v in vs:\n",
    "            self.add_vertex(v) \n",
    "        \n",
    "        for e in es:\n",
    "            self.add_edge(e) \n",
    "            \n",
    "        #Build the vertex tree\n",
    "        assert(self.__check_power_2()), \"Not a power of 2\"\n",
    "        self.vertex_tree = vs   \n",
    "            \n",
    "    def add_vertex(self,v):        \n",
    "        self[v] = {}   \n",
    "        \n",
    "    def add_edge(self,e):       \n",
    "        v, x, w = e\n",
    "        self[v][x] = e\n",
    "        self[x][v] = e\n",
    "        \n",
    "    def __check_power_2(self):\n",
    "        n = len(self)\n",
    "        check = 1\n",
    "        while True:\n",
    "            if(n == check):\n",
    "                return True\n",
    "            elif(n < check):\n",
    "                return False\n",
    "            else:\n",
    "                check = check << 1    \n",
    "\n",
    "class Vertex(object):\n",
    "    def __init__(self, label = ''):\n",
    "        self.label = label\n",
    "    def __repr__(self):\n",
    "        return \"Vertex({0})\".format(self.label)\n",
    "    #__str__ = __repr__\n",
    "    \n",
    "class Edge(tuple):\n",
    "    def __new__(cls, v1, v2, w = 1):\n",
    "        return tuple.__new__(cls, (v1, v2, w))\n",
    "    def __repr__(self):\n",
    "        return \"Edge({0}, {1}) with weight {2}\".format(self[0],self[1], self[2])\n",
    "    #__str__ = __repr__\n",
    "    \n"
   ]
  },
  {
   "cell_type": "code",
   "execution_count": 39,
   "metadata": {
    "collapsed": false
   },
   "outputs": [
    {
     "name": "stdout",
     "output_type": "stream",
     "text": [
      "Vertex(x)\n",
      "Edge(Vertex(x), Vertex(y)) with weight 1\n",
      "{Vertex(x): {Vertex(y): Edge(Vertex(x), Vertex(y)) with weight 1}, Vertex(y): {Vertex(x): Edge(Vertex(x), Vertex(y)) with weight 1}}\n"
     ]
    }
   ],
   "source": [
    "x = Vertex(\"x\")\n",
    "y = Vertex(\"y\")\n",
    "z = Vertex(\"z\")\n",
    "a = Vertex(\"a\")\n",
    "b = Vertex(\"b\")\n",
    "c = Vertex(\"c\")\n",
    "d = Vertex(\"d\")\n",
    "e = Vertex(\"e\")\n",
    "f = Vertex(\"f\")\n",
    "g = Vertex(\"g\")\n",
    "h = Vertex(\"h\")\n",
    "i = Vertex(\"i\")\n",
    "j = Vertex(\"j\")\n",
    "k = Vertex(\"k\")\n",
    "l = Vertex(\"l\")\n",
    "m = Vertex(\"m\")\n",
    "n = Vertex(\"n\")\n",
    "o = Vertex(\"o\")\n",
    "p = Vertex(\"p\")\n",
    "\n",
    "print(x)\n",
    "E = Edge(x,y)\n",
    "print(E)\n",
    "G = Graph([x,y],[E])\n",
    "print(G)"
   ]
  },
  {
   "cell_type": "code",
   "execution_count": 40,
   "metadata": {
    "collapsed": false
   },
   "outputs": [
    {
     "name": "stdout",
     "output_type": "stream",
     "text": [
      "hello\n"
     ]
    }
   ],
   "source": [
    "def do_this(self):\n",
    "    print(\"hello\")\n",
    "Graph.d = do_this    \n",
    "g2 = Graph([x,y],[E])\n",
    "g2.d()"
   ]
  },
  {
   "cell_type": "code",
   "execution_count": 42,
   "metadata": {
    "collapsed": false
   },
   "outputs": [
    {
     "data": {
      "text/plain": [
       "[Vertex(m), Vertex(n), Vertex(o), Vertex(p)]"
      ]
     },
     "execution_count": 42,
     "metadata": {},
     "output_type": "execute_result"
    }
   ],
   "source": [
    "def get_vertices(self, level, group):\n",
    "    l = 1 << level\n",
    "    n = len(self)\n",
    "    size = n//l\n",
    "    return self.vertex_tree[group*size : (group+1)*size]\n",
    "\n",
    "Graph.get_vertices = get_vertices\n",
    "g3 = Graph([a,b,c,d,e,f,g,h,i,j,k,l,m,n,o,p])\n",
    "get_vertices(g3, 2, 3)    "
   ]
  },
  {
   "cell_type": "code",
   "execution_count": 46,
   "metadata": {
    "collapsed": false
   },
   "outputs": [
    {
     "name": "stdout",
     "output_type": "stream",
     "text": [
      "[Vertex(a), Vertex(b), Vertex(c), Vertex(d), Vertex(e), Vertex(f), Vertex(g), Vertex(h)]\n",
      "Vertex(a) {Vertex(c): Edge(Vertex(a), Vertex(c)) with weight 4, Vertex(d): Edge(Vertex(a), Vertex(d)) with weight 8}\n",
      "Vertex(b) {Vertex(e): Edge(Vertex(b), Vertex(e)) with weight 12}\n",
      "Vertex(c) {Vertex(a): Edge(Vertex(a), Vertex(c)) with weight 4}\n",
      "Vertex(d) {Vertex(a): Edge(Vertex(a), Vertex(d)) with weight 8}\n",
      "Vertex(e) {Vertex(f): Edge(Vertex(e), Vertex(f)) with weight 18, Vertex(b): Edge(Vertex(b), Vertex(e)) with weight 12}\n",
      "Vertex(f) {Vertex(e): Edge(Vertex(e), Vertex(f)) with weight 18}\n",
      "Vertex(g) {Vertex(h): Edge(Vertex(g), Vertex(h)) with weight 22}\n",
      "Vertex(h) {Vertex(g): Edge(Vertex(g), Vertex(h)) with weight 22}\n"
     ]
    }
   ],
   "source": [
    "def make_edge_partition_tree(self):\n",
    "    print(self.vertex_tree)\n",
    "    for v in self.vertex_tree:\n",
    "        print (v,self[v])\n",
    "\n",
    "e1 = Edge(a,c,4)\n",
    "e2 = Edge(a,d,8)\n",
    "e3 = Edge(b,e,12)\n",
    "e4 = Edge(e,f,18)\n",
    "e5 = Edge(g,h,22)\n",
    "g4 = Graph([a,b,c,d,e,f,g,h],[e1,e2,e3,e4,e5])\n",
    "make_edge_partition_tree(g4)"
   ]
  },
  {
   "cell_type": "code",
   "execution_count": null,
   "metadata": {
    "collapsed": true
   },
   "outputs": [],
   "source": []
  }
 ],
 "metadata": {
  "kernelspec": {
   "display_name": "Python 3",
   "language": "python",
   "name": "python3"
  },
  "language_info": {
   "codemirror_mode": {
    "name": "ipython",
    "version": 3
   },
   "file_extension": ".py",
   "mimetype": "text/x-python",
   "name": "python",
   "nbconvert_exporter": "python",
   "pygments_lexer": "ipython3",
   "version": "3.4.1"
  }
 },
 "nbformat": 4,
 "nbformat_minor": 0
}
