{
 "cells": [
  {
   "cell_type": "code",
   "execution_count": 41,
   "metadata": {
    "collapsed": false
   },
   "outputs": [],
   "source": [
    "#See http://www.greenteapress.com/complexity/thinkcomplexity.pdf\n",
    "#for documentation\n",
    "\n",
    "class Graph(dict):   \n",
    "    def __init__(self, vs = [], es = []):       \n",
    "        for v in vs:\n",
    "            self.add_vertex(v)          \n",
    "        for e in es:\n",
    "            self.add_edge(e)          \n",
    "    def add_vertex(self,v):        \n",
    "        self[v] = {}        \n",
    "    def add_edge(self,e):       \n",
    "        v, x, w = e\n",
    "        self[v][x] = e\n",
    "        self[x][v] = e\n",
    "\n",
    "class Vertex(object):\n",
    "    def __init__(self, label = ''):\n",
    "        self.label = label\n",
    "    def __repr__(self):\n",
    "        return \"Vertex({0})\".format(self.label)\n",
    "    #__str__ = __repr__\n",
    "    \n",
    "class Edge(tuple):\n",
    "    def __new__(cls, v1, v2, w = 1):\n",
    "        return tuple.__new__(cls, (v1, v2, w))\n",
    "    def __repr__(self):\n",
    "        return \"Edge({0}, {1}) with weight {2}\".format(self[0],self[1], self[2])\n",
    "    #__str__ = __repr__\n",
    "    \n"
   ]
  },
  {
   "cell_type": "code",
   "execution_count": 48,
   "metadata": {
    "collapsed": false
   },
   "outputs": [
    {
     "name": "stdout",
     "output_type": "stream",
     "text": [
      "Vertex(x)\n",
      "Edge(Vertex(x), Vertex(y)) with weight 1\n",
      "{Vertex(y): {Vertex(x): Edge(Vertex(x), Vertex(y)) with weight 1}, Vertex(x): {Vertex(y): Edge(Vertex(x), Vertex(y)) with weight 1}}\n"
     ]
    }
   ],
   "source": [
    "x = Vertex(\"x\")\n",
    "y = Vertex(\"y\")\n",
    "print(x)\n",
    "e = Edge(x,y)\n",
    "print(e)\n",
    "g = Graph([x,y],[e])\n",
    "print(g)"
   ]
  },
  {
   "cell_type": "code",
   "execution_count": 53,
   "metadata": {
    "collapsed": false
   },
   "outputs": [],
   "source": [
    "def do_this(self):\n",
    "    print(\"hello\")\n",
    "Graph.d = do_this    "
   ]
  },
  {
   "cell_type": "code",
   "execution_count": 54,
   "metadata": {
    "collapsed": false
   },
   "outputs": [
    {
     "name": "stdout",
     "output_type": "stream",
     "text": [
      "hello\n"
     ]
    }
   ],
   "source": [
    "g2 = Graph([x,y],[e])\n",
    "g2.d()"
   ]
  },
  {
   "cell_type": "code",
   "execution_count": null,
   "metadata": {
    "collapsed": true
   },
   "outputs": [],
   "source": []
  }
 ],
 "metadata": {
  "kernelspec": {
   "display_name": "Python 3",
   "language": "python",
   "name": "python3"
  },
  "language_info": {
   "codemirror_mode": {
    "name": "ipython",
    "version": 3
   },
   "file_extension": ".py",
   "mimetype": "text/x-python",
   "name": "python",
   "nbconvert_exporter": "python",
   "pygments_lexer": "ipython3",
   "version": "3.4.1"
  }
 },
 "nbformat": 4,
 "nbformat_minor": 0
}
