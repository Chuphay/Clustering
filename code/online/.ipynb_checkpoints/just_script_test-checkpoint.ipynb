{
 "cells": [
  {
   "cell_type": "code",
   "execution_count": 1,
   "metadata": {
    "collapsed": false
   },
   "outputs": [
    {
     "name": "stdout",
     "output_type": "stream",
     "text": [
      "Populating the interactive namespace from numpy and matplotlib\n"
     ]
    },
    {
     "data": {
      "text/plain": [
       "<module 'cluster' from '/home/chuphay/Clustering/code/online/cluster.py'>"
      ]
     },
     "execution_count": 1,
     "metadata": {},
     "output_type": "execute_result"
    }
   ],
   "source": [
    "%pylab inline\n",
    "import cluster\n",
    "from imp import reload\n",
    "reload(cluster)"
   ]
  },
  {
   "cell_type": "code",
   "execution_count": 34,
   "metadata": {
    "collapsed": false,
    "scrolled": true
   },
   "outputs": [
    {
     "data": {
      "image/png": "[encoded data removed]",
      "text/plain": [
       "<matplotlib.figure.Figure at 0xad30292c>"
      ]
     },
     "metadata": {},
     "output_type": "display_data"
    }
   ],
   "source": [
    "seed(123)\n",
    "n = 160\n",
    "x = randn(2*n).reshape(n,2)\n",
    "for i in range(n//2,n):\n",
    "    x[i][0] += 4\n",
    "    x[i][1] += 4\n",
    "def gauss_sim(x,y, sigma = 1):\n",
    "    d = (x[0]-y[0])**2 + (x[1] - y[1])**2\n",
    "    return np.exp(-d/(2*sigma))\n",
    "adjacency = [[0 for i in range(n)] for j in range(n)]\n",
    "for i in range(n):\n",
    "    for j in range(i+1,n):\n",
    "        g_s = gauss_sim(x[i],x[j])\n",
    "        adjacency[i][j] = g_s\n",
    "        adjacency[j][i] = g_s\n",
    "scatter(x[:,0],x[:,1]);"
   ]
  },
  {
   "cell_type": "code",
   "execution_count": 35,
   "metadata": {
    "collapsed": false
   },
   "outputs": [
    {
     "name": "stdout",
     "output_type": "stream",
     "text": [
      "Takeover!!! 0.0 0.927732182261 8 24\n",
      "Takeover!!! 0.0 0.858853405617 41 23\n",
      "Takeover!!! 0.0 0.965586097236 20 15\n",
      "Takeover!!! 0.0 0.960242725502 42 20\n",
      "Takeover!!! 0.0 0.950982608173 60 42\n",
      "Takeover!!! 0.0 0.901542714334 46 8\n",
      "Takeover!!! 0.89435923721 0.949336871157 46 60\n",
      "Takeover!!! 0.0 0.936685977798 61 46\n",
      "Takeover!!! 0.0 0.940778529484 76 61\n",
      "Takeover!!! 0.0 0.777855091101 66 3\n",
      "Takeover!!! 0.0 0.940754444068 25 76\n",
      "Takeover!!! 0.0 0.785402938405 74 66\n",
      "Takeover!!! 0.79663275819 0.933189781899 74 25\n",
      "Takeover!!! 0.0 0.911236684548 5 74\n",
      "Takeover!!! 0.0 0.918147736014 11 5\n",
      "Takeover!!! 0.0 0.598956617923 27 68\n",
      "Takeover!!! 0.732787842768 0.913231150599 27 11\n",
      "Takeover!!! 0.0 0.860400420728 34 27\n",
      "Takeover!!! 0.0 0.979551169067 138 34\n",
      "Takeover!!! 0.0 0.489043056562 130 102\n",
      "Takeover!!! 0.0 0.978595606011 82 138\n",
      "Takeover!!! 0.0 0.975635330791 117 82\n",
      "Takeover!!! 0.0 0.971175980694 84 117\n",
      "Takeover!!! 0.0 0.960544242084 120 84\n",
      "Takeover!!! 0.0 0.950931964734 83 120\n",
      "Takeover!!! 0.0 0.90700829149 127 101\n",
      "Takeover!!! 0.0 0.949940157975 136 83\n",
      "Takeover!!! 0.0 0.888897979398 154 127\n",
      "Takeover!!! 0.87984776493 0.94809753136 154 136\n",
      "Takeover!!! 0.0 0.88488152048 100 154\n",
      "Takeover!!! 0.0 0.82517226721 112 100\n",
      "Finished after 247 iterations\n",
      "160\n",
      "159 1\n"
     ]
    }
   ],
   "source": [
    "import cluster2\n",
    "reload(cluster2)\n",
    "\n",
    "clusters = cluster2.make_clusters(adjacency, seed = 120)\n",
    "#clusters.clusters\n",
    "print(len(clusters.nodes))\n",
    "#clusters.print_tree()\n",
    "print(len(clusters.children[0].nodes), len(clusters.children[1].nodes))\n",
    "\n"
   ]
  },
  {
   "cell_type": "code",
   "execution_count": 32,
   "metadata": {
    "collapsed": false
   },
   "outputs": [
    {
     "data": {
      "image/png": "[encoded data removed]",
      "text/plain": [
       "<matplotlib.figure.Figure at 0xad18330c>"
      ]
     },
     "metadata": {},
     "output_type": "display_data"
    }
   ],
   "source": [
    "child = clusters.children[0].children[1]#.children[0].children[0].children[0].\\\n",
    "    #children[0].children[0].children[1].children[0].children[0].children[0].children[1]#.\\\n",
    "    #children[1].children[0].children[0].children[0].children[0].children[0].\\\n",
    "    #children[0].children[0].children[0].children[1].children[0].children[0].children[0].\\\n",
    "    #children[0].children[0].children[0].children[0].children[0].children[1].children[0].\\\n",
    "    #children[0].children[0].children[0]\n",
    "\n",
    "for i in range(len(adjacency)):\n",
    "    if i in child.children[0].nodes:\n",
    "        scatter(x[i][0],x[i][1], color = \"red\")\n",
    "    elif i in child.children[1].nodes:\n",
    "        scatter(x[i][0],x[i][1], color = \"blue\")\n",
    "    else:\n",
    "        scatter(x[i][0],x[i][1], color = \"yellow\")\n",
    "    if((i == 37) or (i == 8)):\n",
    "        scatter(x[i][0],x[i][1], color = \"black\")"
   ]
  },
  {
   "cell_type": "code",
   "execution_count": 29,
   "metadata": {
    "collapsed": false
   },
   "outputs": [
    {
     "name": "stdout",
     "output_type": "stream",
     "text": [
      "[120, 105, 128, 133, 108, 125, 101, 148, 155, 134, 117, 88, 100, 146, 150, 82, 83, 138, 112, 132, 157, 91, 136, 122, 119, 127, 118, 121, 102, 80, 130, 84, 96, 154, 95, 99, 98, 111, 86, 85, 90, 87, 152, 107, 129, 149, 81, 159, 147, 143, 115, 124, 144, 145, 156, 114, 153, 151, 94, 109, 89, 104, 116, 137, 141, 110, 135, 140, 97, 92, 123, 8, 126, 113, 106, 93, 139, 142, 103, 158, 131]\n"
     ]
    }
   ],
   "source": [
    "print(clusters.children[0].children[1].children[1].nodes)"
   ]
  },
  {
   "cell_type": "code",
   "execution_count": 31,
   "metadata": {
    "collapsed": false
   },
   "outputs": [
    {
     "name": "stdout",
     "output_type": "stream",
     "text": [
      "(1.2672334204651097, 37)\n",
      "(8, 0.79291717168959086)\n",
      "(3, 0.0)\n",
      "(15, 1.2167365357456845)\n"
     ]
    }
   ],
   "source": [
    "myCluster = cluster.make_one_cluster(child.children[0], adjacency)\n",
    "otherCluster = cluster.make_one_cluster(clusters.children[1], adjacency)\n",
    "o_oCluster = cluster.make_one_cluster(clusters.children[0].children[1], adjacency)\n",
    "#c2 = cluster.make_one_cluster(clusters.children[0].children[1].children[1], adjacency)\n",
    "print(myCluster.get_alpha(otherCluster.nodes))\n",
    "print(myCluster.get_closest())\n",
    "print(otherCluster.get_closest())\n",
    "print(o_oCluster.get_closest())\n",
    "#print(c2.get_closest())\n",
    "#print(c2.get_alpha(myCluster.nodes))"
   ]
  },
  {
   "cell_type": "code",
   "execution_count": null,
   "metadata": {
    "collapsed": true
   },
   "outputs": [],
   "source": []
  }
 ],
 "metadata": {
  "kernelspec": {
   "display_name": "Python 3",
   "language": "python",
   "name": "python3"
  },
  "language_info": {
   "codemirror_mode": {
    "name": "ipython",
    "version": 3
   },
   "file_extension": ".py",
   "mimetype": "text/x-python",
   "name": "python",
   "nbconvert_exporter": "python",
   "pygments_lexer": "ipython3",
   "version": "3.4.4"
  }
 },
 "nbformat": 4,
 "nbformat_minor": 0
}
