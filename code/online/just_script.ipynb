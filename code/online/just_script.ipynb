{
 "cells": [
  {
   "cell_type": "code",
   "execution_count": 12,
   "metadata": {
    "collapsed": false
   },
   "outputs": [
    {
     "name": "stdout",
     "output_type": "stream",
     "text": [
      "Populating the interactive namespace from numpy and matplotlib\n"
     ]
    },
    {
     "data": {
      "text/plain": [
       "<module 'cluster' from '/home/chuphay/Clustering/code/online/cluster.py'>"
      ]
     },
     "execution_count": 12,
     "metadata": {},
     "output_type": "execute_result"
    }
   ],
   "source": [
    "%pylab inline\n",
    "import cluster \n",
    "from imp import reload\n",
    "reload(cluster)"
   ]
  },
  {
   "cell_type": "code",
   "execution_count": 2,
   "metadata": {
    "collapsed": false
   },
   "outputs": [
    {
     "data": {
      "image/png": "[encoded data removed]",
      "text/plain": [
       "<matplotlib.figure.Figure at 0xb061cf2c>"
      ]
     },
     "metadata": {},
     "output_type": "display_data"
    }
   ],
   "source": [
    "seed(123)\n",
    "n = 40\n",
    "x = randn(2*n).reshape(n,2)\n",
    "def gauss_sim(x,y, sigma = 1):\n",
    "    d = (x[0]-y[0])**2 + (x[1] - y[1])**2\n",
    "    return np.exp(-d/(2*sigma))\n",
    "adjacency = [[0 for i in range(n)] for j in range(n)]\n",
    "for i in range(n):\n",
    "    for j in range(i+1,n):\n",
    "        g_s = gauss_sim(x[i],x[j])\n",
    "        adjacency[i][j] = g_s\n",
    "        adjacency[j][i] = g_s\n",
    "scatter(x[:,0], x[:,1]);"
   ]
  },
  {
   "cell_type": "code",
   "execution_count": 3,
   "metadata": {
    "collapsed": false
   },
   "outputs": [
    {
     "name": "stdout",
     "output_type": "stream",
     "text": [
      "Finished after 57 iterations\n",
      "[17, 24, 28, 10, 8, 32, 29, 23, 9, 39, 20, 15, 16, 3, 25, 12, 33, 22, 27, 18, 34, 19, 0, 11, 2, 30, 37, 21, 5, 38, 7, 14, 31, 1, 26, 6, 4, 36, 13, 35]\n",
      "[17, 24, 28, 10, 8, 32, 29, 23, 9, 39, 20, 15, 16, 3, 25, 12, 33, 22, 27, 18, 34, 19, 0, 11, 2, 30, 37, 21, 5, 38, 7, 14, 31, 1, 26, 6, 4, 36, 13]\n",
      "[17, 24, 28, 10, 8, 32, 29, 23, 9, 39, 20, 15, 16, 3, 25, 12, 33, 22, 27, 18, 34, 19, 0, 11, 2, 30, 37, 21, 5, 38, 7, 14, 31, 1]\n",
      "[17, 24, 28, 10, 8, 32, 29, 23, 9, 39, 20, 15, 16, 3, 25, 12, 33, 22, 27, 18, 34, 19, 0, 11, 2, 30, 37, 21, 5, 38, 7, 14]\n",
      "[17, 24, 28, 10, 8, 32, 29, 23, 9, 39, 20, 15, 16, 3, 25, 12, 33, 22, 27, 18, 34, 19, 0, 11, 2, 30, 37, 21, 5, 38, 7]\n",
      "[17, 24, 28, 10, 8, 32, 29, 23, 9]\n",
      "[17]\n",
      "[24, 28, 10, 8, 32, 29, 23, 9]\n",
      "[24, 28, 10, 8, 32, 29, 23]\n",
      "[24, 28, 10, 8]\n",
      "[24, 28, 10]\n",
      "[24, 28]\n",
      "[24]\n",
      "[28]\n",
      "[10]\n",
      "[8]\n",
      "[32, 29, 23]\n",
      "[32, 29]\n",
      "[32]\n",
      "[29]\n",
      "[23]\n",
      "[9]\n",
      "[39, 20, 15, 16, 3, 25, 12, 33, 22, 27, 18, 34, 19, 0, 11, 2, 30, 37, 21, 5, 38, 7]\n",
      "[39, 20, 15, 16, 3, 25, 12]\n",
      "[39, 20, 15]\n",
      "[39, 20]\n",
      "[39]\n",
      "[20]\n",
      "[15]\n",
      "[16, 3, 25, 12]\n",
      "[16, 3, 25]\n",
      "[16, 3]\n",
      "[16]\n",
      "[3]\n",
      "[25]\n",
      "[12]\n",
      "[33, 22, 27, 18, 34, 19, 0, 11, 2, 30, 37, 21, 5, 38, 7]\n",
      "[33, 22]\n",
      "[33]\n",
      "[22]\n",
      "[27, 18, 34, 19, 0, 11, 2, 30, 37, 21, 5, 38, 7]\n",
      "[27, 18, 34, 19, 0, 11, 2, 30, 37, 21, 5, 38]\n",
      "[27, 18, 34, 19, 0, 11, 2, 30, 37, 21, 5]\n",
      "[27, 18, 34, 19, 0, 11, 2, 30, 37, 21]\n",
      "[27, 18]\n",
      "[27]\n",
      "[18]\n",
      "[34, 19, 0, 11, 2, 30, 37, 21]\n",
      "[34, 19, 0, 11, 2, 30, 37]\n",
      "[34, 19]\n",
      "[34]\n",
      "[19]\n",
      "[0, 11, 2, 30, 37]\n",
      "[0, 11, 2, 30]\n",
      "[0, 11, 2]\n",
      "[0, 11]\n",
      "[0]\n",
      "[11]\n",
      "[2]\n",
      "[30]\n",
      "[37]\n",
      "[21]\n",
      "[5]\n",
      "[38]\n",
      "[7]\n",
      "[14]\n",
      "[31, 1]\n",
      "[31]\n",
      "[1]\n",
      "[26, 6, 4, 36, 13]\n",
      "[26, 6, 4, 36]\n",
      "[26, 6, 4]\n",
      "[26, 6]\n",
      "[26]\n",
      "[6]\n",
      "[4]\n",
      "[36]\n",
      "[13]\n",
      "[35]\n"
     ]
    }
   ],
   "source": [
    "clusters = cluster.make_clusters(adjacency, alpha_breaks = [0,1,2,3], seed = 0)\n",
    "clusters.print_tree()"
   ]
  },
  {
   "cell_type": "code",
   "execution_count": 4,
   "metadata": {
    "collapsed": false,
    "scrolled": true
   },
   "outputs": [
    {
     "data": {
      "image/png": "[encoded data removed]",
      "text/plain": [
       "<matplotlib.figure.Figure at 0xb054bf0c>"
      ]
     },
     "metadata": {},
     "output_type": "display_data"
    }
   ],
   "source": [
    "seed(123)\n",
    "n = 80\n",
    "x = randn(2*n).reshape(n,2)\n",
    "for i in range(n//2,n):\n",
    "    x[i][0] += 4\n",
    "    x[i][1] += 5\n",
    "def gauss_sim(x,y, sigma = 1):\n",
    "    d = (x[0]-y[0])**2 + (x[1] - y[1])**2\n",
    "    return np.exp(-d/(2*sigma))\n",
    "adjacency = [[0 for i in range(n)] for j in range(n)]\n",
    "for i in range(n):\n",
    "    for j in range(i+1,n):\n",
    "        g_s = gauss_sim(x[i],x[j])\n",
    "        adjacency[i][j] = g_s\n",
    "        adjacency[j][i] = g_s\n",
    "scatter(x[:,0],x[:,1]);"
   ]
  },
  {
   "cell_type": "code",
   "execution_count": 13,
   "metadata": {
    "collapsed": false
   },
   "outputs": [
    {
     "name": "stdout",
     "output_type": "stream",
     "text": [
      "Finished after 138 iterations\n",
      "80\n",
      "39 41\n",
      "[17, 28, 24, 10, 32, 29, 23, 9]\n"
     ]
    }
   ],
   "source": [
    "reload(cluster)\n",
    "\n",
    "clusters = cluster.make_clusters(adjacency, alpha_breaks = [0,1,2,3], seed = 1)\n",
    "#clusters.clusters\n",
    "print(len(clusters.nodes))\n",
    "#clusters.print_tree()\n",
    "print(len(clusters.children[0].nodes), len(clusters.children[1].nodes))\n",
    "print(clusters.children[0].children[1].nodes)\n"
   ]
  },
  {
   "cell_type": "code",
   "execution_count": 14,
   "metadata": {
    "collapsed": false
   },
   "outputs": [
    {
     "data": {
      "image/png": "[encoded data removed]",
      "text/plain": [
       "<matplotlib.figure.Figure at 0xb032436c>"
      ]
     },
     "metadata": {},
     "output_type": "display_data"
    }
   ],
   "source": [
    "child = clusters #.children[0].children[0].children[0].children[0].children[0].children[0]\n",
    "\n",
    "for j in child.children[0].nodes:\n",
    "    scatter(x[j][0],x[j][1], color = \"red\")\n",
    "for j in child.children[1].nodes:\n",
    "    scatter(x[j][0],x[j][1], color = \"blue\")"
   ]
  },
  {
   "cell_type": "code",
   "execution_count": null,
   "metadata": {
    "collapsed": true
   },
   "outputs": [],
   "source": []
  }
 ],
 "metadata": {
  "kernelspec": {
   "display_name": "Python 3",
   "language": "python",
   "name": "python3"
  },
  "language_info": {
   "codemirror_mode": {
    "name": "ipython",
    "version": 3
   },
   "file_extension": ".py",
   "mimetype": "text/x-python",
   "name": "python",
   "nbconvert_exporter": "python",
   "pygments_lexer": "ipython3",
   "version": "3.4.1"
  }
 },
 "nbformat": 4,
 "nbformat_minor": 0
}
