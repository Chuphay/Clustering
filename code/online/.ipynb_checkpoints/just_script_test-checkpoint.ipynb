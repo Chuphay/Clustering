{
 "cells": [
  {
   "cell_type": "code",
   "execution_count": 1,
   "metadata": {
    "collapsed": false
   },
   "outputs": [
    {
     "name": "stdout",
     "output_type": "stream",
     "text": [
      "Populating the interactive namespace from numpy and matplotlib\n"
     ]
    },
    {
     "data": {
      "text/plain": [
       "<module 'cluster' from '/home/chuphay/Clustering/code/online/cluster.py'>"
      ]
     },
     "execution_count": 1,
     "metadata": {},
     "output_type": "execute_result"
    }
   ],
   "source": [
    "%pylab inline\n",
    "import cluster\n",
    "from imp import reload\n",
    "reload(cluster)"
   ]
  },
  {
   "cell_type": "code",
   "execution_count": 2,
   "metadata": {
    "collapsed": false,
    "scrolled": true
   },
   "outputs": [
    {
     "data": {
      "image/png": "[encoded data removed]",
      "text/plain": [
       "<matplotlib.figure.Figure at 0xaeeb362c>"
      ]
     },
     "metadata": {},
     "output_type": "display_data"
    }
   ],
   "source": [
    "seed(123)\n",
    "n = 160\n",
    "x = randn(2*n).reshape(n,2)\n",
    "for i in range(n//2,n):\n",
    "    x[i][0] += 4\n",
    "    x[i][1] += 5\n",
    "def gauss_sim(x,y, sigma = 1):\n",
    "    d = (x[0]-y[0])**2 + (x[1] - y[1])**2\n",
    "    return np.exp(-d/(2*sigma))\n",
    "adjacency = [[0 for i in range(n)] for j in range(n)]\n",
    "for i in range(n):\n",
    "    for j in range(i+1,n):\n",
    "        g_s = gauss_sim(x[i],x[j])\n",
    "        adjacency[i][j] = g_s\n",
    "        adjacency[j][i] = g_s\n",
    "scatter(x[:,0],x[:,1]);"
   ]
  },
  {
   "cell_type": "code",
   "execution_count": 16,
   "metadata": {
    "collapsed": false
   },
   "outputs": [
    {
     "name": "stdout",
     "output_type": "stream",
     "text": [
      "found a loop: [102, 84, 88, 112, 92, 130] 102 [0.48903307675090507, 0.0, 0.0, 0.0, 0.94414959696545908, 0.0] here 130\n",
      "found a loop: [84, 121, 92, 130, 102] 84 [0.484360805237318, 0.0, 0.94414959696545908, 0.0, 0.48903307675090507] here 102\n",
      "found a loop: [84, 92, 130, 102] 84 [0.80761825956620126, 0.94414959696545908, 0.0, 0.48903307675090507] here 102\n",
      "found a loop: [130, 84, 92] 130 [0.65176516822125063, 0.80761825956620126, 0.94414959696545908] here 92\n",
      "found a loop: [130, 95, 120] 130 [0.93404214772859562, 0.0, 0.0] here 120\n",
      "found a loop: [95, 105, 130] 95 [0.4934390197524125, 0.0, 0.93404214772859562] here 130\n",
      "found a loop: [101, 136, 83, 138, 95, 96, 154, 127] 101 [0.9069947556464607, 0.0, 0.0, 0.0, 0.92256249646113753, 0.0, 0.0, 0.0] here 127\n",
      "found a loop: [136, 138, 95, 96, 154, 127, 101] 136 [0.47278926650503306, 0.0, 0.92256249646113753, 0.0, 0.0, 0.0, 0.9069947556464607] here 101\n",
      "found a loop: [96, 119, 101, 136, 138, 95] 96 [0.49256006559950416, 0.0, 0.9069947556464607, 0.47278926650503306, 0.0, 0.92256249646113753] here 95\n",
      "found a loop: [136, 112, 95, 96, 119, 101] 136 [0.65894711375672566, 0.0, 0.92256249646113753, 0.49256006559950416, 0.0, 0.9069947556464607] here 101\n",
      "found a loop: [96, 127, 101, 136, 112, 95] 96 [0.64769018544519408, 0.0, 0.9069947556464607, 0.65894711375672566, 0.0, 0.92256249646113753] here 95\n",
      "found a loop: [96, 118, 101, 136, 112, 95] 96 [0.73651970454892501, 0.0, 0.9069947556464607, 0.65894711375672566, 0.0, 0.92256249646113753] here 95\n",
      "found a loop: [136, 95, 96, 118, 101] 136 [0.79074985185123559, 0.92256249646113753, 0.73651970454892501, 0.0, 0.9069947556464607] here 101\n",
      "found a loop: [96, 101, 136, 95] 96 [0.79305448578128657, 0.9069947556464607, 0.79074985185123559, 0.92256249646113753] here 95\n",
      "found a loop: [96, 136, 95] 96 [0.88682156265066336, 0.79074985185123559, 0.92256249646113753] here 95\n",
      "found a loop: [15, 75, 61, 46] 15 [0.99574496223273612, 0.0, 0.0, 0.0] here 46\n",
      "found a loop: [75, 46, 15] 75 [0.48557664238052711, 0.0, 0.99574496223273612] here 15\n",
      "found a loop: [75, 33, 60, 42, 20] 75 [0.98820186610823979, 0.0, 0.0, 0.0, 0.0] here 20\n",
      "found a loop: [3, 25, 76, 75, 33, 7, 12] 3 [0.77785513288957353, 0.0, 0.0, 0.98820186610823979, 0.46921700855836301, 0.0, 0.0] here 12\n",
      "found a loop: [25, 20, 75, 33, 7, 12, 3] 25 [0.63814555966060593, 0.0, 0.98820186610823979, 0.46921700855836301, 0.0, 0.0, 0.77785513288957353] here 3\n",
      "found a loop: [7, 3, 25, 20, 75, 33] 7 [0.43816065308388968, 0.77785513288957353, 0.63814555966060593, 0.0, 0.98820186610823979, 0.46921700855836301] here 33\n",
      "found a loop: [25, 75, 33, 7, 3] 25 [0.87596950891298686, 0.98820186610823979, 0.46921700855836301, 0.43816065308388968, 0.77785513288957353] here 3\n",
      "found a loop: [33, 25, 75] 33 [0.74053784650098886, 0.87596950891298686, 0.98820186610823979] here 75\n",
      "found a loop: [33, 52, 74, 66] 33 [0.94561903839746608, 0.0, 0.0, 0.0] here 66\n",
      "found a loop: [52, 38, 5, 33] 52 [0.49166723459580525, 0.0, 0.0, 0.94561903839746608] here 33\n",
      "found a loop: [38, 77, 33, 52] 38 [0.49385298251481935, 0.0, 0.94561903839746608, 0.49166723459580525] here 52\n",
      "found a loop: [38, 34, 33, 52] 38 [0.62736582695149345, 0.0, 0.94561903839746608, 0.49166723459580525] here 52\n",
      "found a loop: [38, 33, 52] 38 [0.86124347751327335, 0.94561903839746608, 0.49166723459580525] here 52\n",
      "found a loop: [52, 19, 33] 52 [0.77923859419486485, 0.0, 0.94561903839746608] here 33\n",
      "found a loop: [68, 52, 18, 27] 68 [0.74607684266414587, 0.90981736686989279, 0.0, 0.0] here 27\n",
      "found a loop: [18, 68, 52] 18 [0.55636405127682165, 0.74607684266414587, 0.90981736686989279] here 52\n",
      "found a loop: [18, 11, 52] 18 [0.76194211987912297, 0.0, 0.90981736686989279] here 52\n",
      "found a loop: [18, 0, 52] 18 [0.80935826087077523, 0.0, 0.90981736686989279] here 52\n",
      "Finished after 304 iterations\n",
      "160\n",
      "159 1\n"
     ]
    }
   ],
   "source": [
    "import cluster2\n",
    "reload(cluster2)\n",
    "\n",
    "clusters = cluster2.make_clusters(adjacency, seed = 120)\n",
    "#clusters.clusters\n",
    "print(len(clusters.nodes))\n",
    "#clusters.print_tree()\n",
    "print(len(clusters.children[0].nodes), len(clusters.children[1].nodes))\n",
    "\n"
   ]
  },
  {
   "cell_type": "code",
   "execution_count": 56,
   "metadata": {
    "collapsed": false
   },
   "outputs": [
    {
     "data": {
      "image/png": "[encoded data removed]",
      "text/plain": [
       "<matplotlib.figure.Figure at 0xad3aef8c>"
      ]
     },
     "metadata": {},
     "output_type": "display_data"
    }
   ],
   "source": [
    "child = clusters.children[0].children[0].children[0].children[0].\\\n",
    "    children[0].children[1].children[0].children[1].children[0].children[0].children[1].\\\n",
    "    children[1].children[0].children[0].children[0].children[0].children[0].\\\n",
    "    children[0].children[0].children[0].children[1].children[0].children[0].children[0].\\\n",
    "    children[0].children[0].children[0].children[0].children[0].children[1].children[0].\\\n",
    "    children[0].children[0].children[0]\n",
    "\n",
    "for i in range(len(adjacency)):\n",
    "    if i in child.children[0].nodes:\n",
    "        scatter(x[i][0],x[i][1], color = \"red\")\n",
    "    elif i in child.children[1].nodes:\n",
    "        scatter(x[i][0],x[i][1], color = \"blue\")\n",
    "    else:\n",
    "        scatter(x[i][0],x[i][1], color = \"yellow\")\n",
    "    if((i == 37) or (i == 51)):\n",
    "        scatter(x[i][0],x[i][1], color = \"black\")"
   ]
  },
  {
   "cell_type": "code",
   "execution_count": 57,
   "metadata": {
    "collapsed": false
   },
   "outputs": [
    {
     "ename": "TypeError",
     "evalue": "'NoneType' object is not subscriptable",
     "output_type": "error",
     "traceback": [
      "\u001b[1;31m---------------------------------------------------------------------------\u001b[0m",
      "\u001b[1;31mTypeError\u001b[0m                                 Traceback (most recent call last)",
      "\u001b[1;32m<ipython-input-57-a534ad91aae7>\u001b[0m in \u001b[0;36m<module>\u001b[1;34m()\u001b[0m\n\u001b[1;32m----> 1\u001b[1;33m \u001b[0mprint\u001b[0m\u001b[1;33m(\u001b[0m\u001b[0mclusters\u001b[0m\u001b[1;33m.\u001b[0m\u001b[0mchildren\u001b[0m\u001b[1;33m[\u001b[0m\u001b[1;36m0\u001b[0m\u001b[1;33m]\u001b[0m\u001b[1;33m.\u001b[0m\u001b[0mchildren\u001b[0m\u001b[1;33m[\u001b[0m\u001b[1;36m1\u001b[0m\u001b[1;33m]\u001b[0m\u001b[1;33m.\u001b[0m\u001b[0mchildren\u001b[0m\u001b[1;33m[\u001b[0m\u001b[1;36m1\u001b[0m\u001b[1;33m]\u001b[0m\u001b[1;33m.\u001b[0m\u001b[0mnodes\u001b[0m\u001b[1;33m)\u001b[0m\u001b[1;33m\u001b[0m\u001b[0m\n\u001b[0m",
      "\u001b[1;31mTypeError\u001b[0m: 'NoneType' object is not subscriptable"
     ]
    }
   ],
   "source": [
    "print(clusters.children[0].children[1].children[1].nodes)"
   ]
  },
  {
   "cell_type": "code",
   "execution_count": 55,
   "metadata": {
    "collapsed": false
   },
   "outputs": [
    {
     "name": "stdout",
     "output_type": "stream",
     "text": [
      "(5.2766612701580202, 30)\n",
      "(51, 1.965632555265677)\n",
      "(0, 0.0)\n",
      "(55, 0.0)\n"
     ]
    }
   ],
   "source": [
    "myCluster = cluster.make_one_cluster(child.children[1], adjacency)\n",
    "otherCluster = cluster.make_one_cluster(clusters.children[1], adjacency)\n",
    "o_oCluster = cluster.make_one_cluster(clusters.children[0].children[1], adjacency)\n",
    "#c2 = cluster.make_one_cluster(clusters.children[0].children[1].children[1], adjacency)\n",
    "print(myCluster.get_alpha(otherCluster.nodes))\n",
    "print(myCluster.get_closest())\n",
    "print(otherCluster.get_closest())\n",
    "print(o_oCluster.get_closest())\n",
    "#print(c2.get_closest())\n",
    "#print(c2.get_alpha(myCluster.nodes))"
   ]
  },
  {
   "cell_type": "code",
   "execution_count": null,
   "metadata": {
    "collapsed": true
   },
   "outputs": [],
   "source": []
  }
 ],
 "metadata": {
  "kernelspec": {
   "display_name": "Python 3",
   "language": "python",
   "name": "python3"
  },
  "language_info": {
   "codemirror_mode": {
    "name": "ipython",
    "version": 3
   },
   "file_extension": ".py",
   "mimetype": "text/x-python",
   "name": "python",
   "nbconvert_exporter": "python",
   "pygments_lexer": "ipython3",
   "version": "3.4.4"
  }
 },
 "nbformat": 4,
 "nbformat_minor": 0
}
