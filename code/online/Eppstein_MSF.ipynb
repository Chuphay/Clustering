{
 "cells": [
  {
   "cell_type": "code",
   "execution_count": 1,
   "metadata": {
    "collapsed": false
   },
   "outputs": [],
   "source": [
    "#See http://www.greenteapress.com/complexity/thinkcomplexity.pdf\n",
    "#for documentation\n",
    "\n",
    "\n",
    "class Vertex(object):\n",
    "    def __init__(self, label = ''):\n",
    "        self.label = label\n",
    "    def __repr__(self):\n",
    "        return \"Vertex({0})\".format(self.label)\n",
    "    #__str__ = __repr__\n",
    "    \n",
    "class Edge(tuple):\n",
    "    def __new__(cls, v1, v2, w = 1):\n",
    "        return tuple.__new__(cls, (v1, v2, w))\n",
    "    def __repr__(self):\n",
    "        #return \"Edge({0}, {1}) with weight {2}\".format(self[0],self[1], self[2])\n",
    "        return \"{0}\".format(self[2])\n",
    "    #__str__ = __repr__\n",
    "    \n",
    "\n",
    "class Graph(dict):   \n",
    "    def __init__(self, vs = [], es = []):       \n",
    "        for v in vs:\n",
    "            self.__add_vertex(v) \n",
    "        \n",
    "        for e in es:\n",
    "            self.__add_edge(e) \n",
    "            \n",
    "        #Build the vertex tree\n",
    "        assert(self.__check_power_2()), \"Not a power of 2\"\n",
    "        self.vertex_tree = vs \n",
    "        \n",
    "        #Build the edge partition tree\n",
    "        self.edge_partition_tree = self.make_e_p_t()\n",
    "            \n",
    "    def __add_vertex(self,v):        \n",
    "        self[v] = {}   \n",
    "        \n",
    "    def __add_edge(self,e):       \n",
    "        v, x, w = e\n",
    "        self[v][x] = e\n",
    "        self[x][v] = e\n",
    "        \n",
    "    def __check_power_2(self):\n",
    "        n = len(self)\n",
    "        check = 1\n",
    "        while True:\n",
    "            if(n == check):\n",
    "                return True\n",
    "            elif(n < check):\n",
    "                return False\n",
    "            else:\n",
    "                check = check << 1   \n",
    "    \n",
    "    def get_group_of_v(self, level, vertex):\n",
    "        l = 1 << level\n",
    "        n = len(self)\n",
    "        size = n//l\n",
    "        index = self.vertex_tree.index(vertex)\n",
    "        return (index//size, size)\n",
    "    \n",
    "    def make_edge_node(self, vs, ws):\n",
    "        edges = []\n",
    "        for v in vs:\n",
    "            for w in ws:\n",
    "                edge = self[v].get(w)\n",
    "                if(edge and (edge not in edges)):\n",
    "                    edges.append(self[v].get(w))\n",
    "        return edges\n",
    "   \n",
    "    def make_e_p_t(self):\n",
    "        n = len(self.vertex_tree)\n",
    "        vs = self.vertex_tree\n",
    "        big_n = n\n",
    "        l = 0\n",
    "        out = {(n,0,0):self.make_edge_node(vs,vs)}\n",
    "        while(n>1):\n",
    "            n = n//2          \n",
    "            for i in range(0,big_n,n):\n",
    "                for j in range(i,big_n,n):\n",
    "                    out[(n,i,j)] = self.make_edge_node(vs[i:i+n],vs[j:j+n])\n",
    "        return out            \n",
    "            "
   ]
  },
  {
   "cell_type": "code",
   "execution_count": 2,
   "metadata": {
    "collapsed": false
   },
   "outputs": [],
   "source": [
    "def hello(self):\n",
    "    assert(self.__check_power_2()), \"Not a power of 2\"\n",
    "    print (\"hello\")\n",
    "Graph.hello = hello"
   ]
  },
  {
   "cell_type": "code",
   "execution_count": 3,
   "metadata": {
    "collapsed": false
   },
   "outputs": [
    {
     "name": "stdout",
     "output_type": "stream",
     "text": [
      "Vertex(x)\n"
     ]
    },
    {
     "data": {
      "text/plain": [
       "{(1, 0, 0): [],\n",
       " (1, 0, 1): [],\n",
       " (1, 0, 2): [4],\n",
       " (1, 0, 3): [8],\n",
       " (1, 0, 4): [],\n",
       " (1, 0, 5): [],\n",
       " (1, 0, 6): [],\n",
       " (1, 0, 7): [],\n",
       " (1, 1, 1): [],\n",
       " (1, 1, 2): [],\n",
       " (1, 1, 3): [],\n",
       " (1, 1, 4): [12],\n",
       " (1, 1, 5): [],\n",
       " (1, 1, 6): [],\n",
       " (1, 1, 7): [],\n",
       " (1, 2, 2): [],\n",
       " (1, 2, 3): [],\n",
       " (1, 2, 4): [],\n",
       " (1, 2, 5): [],\n",
       " (1, 2, 6): [],\n",
       " (1, 2, 7): [],\n",
       " (1, 3, 3): [],\n",
       " (1, 3, 4): [],\n",
       " (1, 3, 5): [],\n",
       " (1, 3, 6): [],\n",
       " (1, 3, 7): [],\n",
       " (1, 4, 4): [],\n",
       " (1, 4, 5): [18],\n",
       " (1, 4, 6): [],\n",
       " (1, 4, 7): [],\n",
       " (1, 5, 5): [],\n",
       " (1, 5, 6): [],\n",
       " (1, 5, 7): [],\n",
       " (1, 6, 6): [],\n",
       " (1, 6, 7): [22],\n",
       " (1, 7, 7): [],\n",
       " (2, 0, 0): [],\n",
       " (2, 0, 2): [4, 8],\n",
       " (2, 0, 4): [12],\n",
       " (2, 0, 6): [],\n",
       " (2, 2, 2): [],\n",
       " (2, 2, 4): [],\n",
       " (2, 2, 6): [],\n",
       " (2, 4, 4): [18],\n",
       " (2, 4, 6): [],\n",
       " (2, 6, 6): [22],\n",
       " (4, 0, 0): [4, 8],\n",
       " (4, 0, 4): [12],\n",
       " (4, 4, 4): [18, 22],\n",
       " (8, 0, 0): [4, 8, 12, 18, 22]}"
      ]
     },
     "execution_count": 3,
     "metadata": {},
     "output_type": "execute_result"
    }
   ],
   "source": [
    "x = Vertex(\"x\")\n",
    "y = Vertex(\"y\")\n",
    "z = Vertex(\"z\")\n",
    "a = Vertex(\"a\")\n",
    "b = Vertex(\"b\")\n",
    "c = Vertex(\"c\")\n",
    "d = Vertex(\"d\")\n",
    "e = Vertex(\"e\")\n",
    "f = Vertex(\"f\")\n",
    "g = Vertex(\"g\")\n",
    "h = Vertex(\"h\")\n",
    "i = Vertex(\"i\")\n",
    "j = Vertex(\"j\")\n",
    "k = Vertex(\"k\")\n",
    "l = Vertex(\"l\")\n",
    "m = Vertex(\"m\")\n",
    "n = Vertex(\"n\")\n",
    "o = Vertex(\"o\")\n",
    "p = Vertex(\"p\")\n",
    "\n",
    "e1 = Edge(a,c,4)\n",
    "e2 = Edge(a,d,8)\n",
    "e3 = Edge(b,e,12)\n",
    "e4 = Edge(e,f,18)\n",
    "e5 = Edge(g,h,22)\n",
    "\n",
    "print(x)\n",
    "\n",
    "g3 = Graph([a,b,c,d,e,f,g,h,i,j,k,l,m,n,o,p])\n",
    "#g3.get_vs_in_group(2, 3)  \n",
    "\n",
    "\n",
    "g4 = Graph([a,b,c,d,e,f,g,h],[e1,e2,e3,e4,e5])\n",
    "g4.edge_partition_tree\n"
   ]
  },
  {
   "cell_type": "code",
   "execution_count": 4,
   "metadata": {
    "collapsed": false
   },
   "outputs": [
    {
     "name": "stdout",
     "output_type": "stream",
     "text": [
      "Adding edge\n",
      "l 1 n 8 1 8 0 0\n",
      "l 2 n 8 2 4 1 4\n",
      "l 3 n 8 4 2 3 6\n",
      "l 4 n 8 8 2 3 6\n"
     ]
    }
   ],
   "source": [
    "e6 = Edge(a,d,5)\n",
    "e7 = Edge(a,g,1)\n",
    "g4._Graph__add_edge(e6)\n",
    "\n",
    "def add_edge(self,e):\n",
    "    v,x,w = e\n",
    "    if(self[v].get(x) != None):\n",
    "        print(\"Edge already exists, delete first\")\n",
    "    else:            \n",
    "        print(\"Adding edge\")\n",
    "        l = 1\n",
    "        level = 1\n",
    "        n = len(self)\n",
    "        size = n//l\n",
    "        a,b,w = e\n",
    "        a_index = self.vertex_tree.index(a)\n",
    "        b_index = self.vertex_tree.index(b)\n",
    "        while True:\n",
    "            print(\"l\",l, \"n\",n, level, size, a_index//size, size*(b_index//size))\n",
    "            self.edge_partition_tree[(size, size*(a_index//size), size*(b_index//size))].append(e)\n",
    "            if(level>=n):\n",
    "                break\n",
    "            else:\n",
    "                l += 1\n",
    "                size = n//l\n",
    "                level = level << 1\n",
    "\n",
    "        \n",
    "\n",
    "E1 = Edge(x,y,1)\n",
    "E2 = Edge(y,z,2)\n",
    "E3 = Edge(x,z,3)\n",
    "G = Graph([x,y,z,a],[E1])   \n",
    "#add_edge(G, E2)\n",
    "#add_edge(G, E3)\n",
    "#print(G.edge_partition_tree)\n",
    "g4 = Graph([a,b,c,d,e,f,g,h],[e1,e2,e3,e4])\n",
    "add_edge(g4, e5)"
   ]
  },
  {
   "cell_type": "code",
   "execution_count": 13,
   "metadata": {
    "collapsed": false
   },
   "outputs": [
    {
     "name": "stdout",
     "output_type": "stream",
     "text": [
      "Populating the interactive namespace from numpy and matplotlib\n",
      "[(0, 1), (0, 2), (2, 3), (3, 4), (3, 5)]\n",
      "[(0, 1, {'weight': 1}), (0, 2, {'weight': 1}), (2, 3, {'weight': 1}), (3, 4, {'weight': 1}), (3, 5, {'weight': 1})]\n"
     ]
    },
    {
     "data": {
      "image/png": "[encoded data removed]",
      "text/plain": [
       "<matplotlib.figure.Figure at 0xb02be04c>"
      ]
     },
     "metadata": {},
     "output_type": "display_data"
    }
   ],
   "source": [
    "%pylab inline\n",
    "import networkx as nx\n",
    "G = nx.Graph(array([[0,1,1,0,0,0],[1,0,1,0,0,0],[1,1,0,1,0,0],[0,0,1,0,1,1],[0,0,0,1,0,1],[0,0,0,1,1,0]]))\n",
    "nx.draw(G)\n",
    "print(nx.minimum_spanning_tree(G).edges())\n",
    "print(list(nx.minimum_spanning_edges(G)))"
   ]
  },
  {
   "cell_type": "code",
   "execution_count": null,
   "metadata": {
    "collapsed": true
   },
   "outputs": [],
   "source": []
  }
 ],
 "metadata": {
  "kernelspec": {
   "display_name": "Python 3",
   "language": "python",
   "name": "python3"
  },
  "language_info": {
   "codemirror_mode": {
    "name": "ipython",
    "version": 3
   },
   "file_extension": ".py",
   "mimetype": "text/x-python",
   "name": "python",
   "nbconvert_exporter": "python",
   "pygments_lexer": "ipython3",
   "version": "3.4.1"
  }
 },
 "nbformat": 4,
 "nbformat_minor": 0
}
