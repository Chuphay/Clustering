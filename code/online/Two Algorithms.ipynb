{
 "cells": [
  {
   "cell_type": "markdown",
   "metadata": {},
   "source": [
    "<h1>Two IsoClustering Algorithms</h1>"
   ]
  },
  {
   "cell_type": "code",
   "execution_count": 3,
   "metadata": {
    "collapsed": true
   },
   "outputs": [],
   "source": [
    "import numpy as np"
   ]
  },
  {
   "cell_type": "code",
   "execution_count": 4,
   "metadata": {
    "collapsed": false
   },
   "outputs": [
    {
     "data": {
      "text/plain": [
       "array([ 1.,  1.,  1.,  0.,  0.,  0.])"
      ]
     },
     "execution_count": 4,
     "metadata": {},
     "output_type": "execute_result"
    }
   ],
   "source": [
    "def cluster(vertex, graph, alpha = 1, classified = None):\n",
    "    n = graph.shape[0]  \n",
    "    if(classified is None):\n",
    "        classified = np.zeros(n)\n",
    "    else:\n",
    "        assert(len(classified) == n), \"Length of classified does not match size of graph.\"\n",
    "        classified = classified.astype(int)\n",
    "        \n",
    "    internal_weights = graph[vertex].astype(float)    \n",
    "    degrees = np.sum(graph, axis = 1)\n",
    "    perimeter = np.sum(internal_weights)      \n",
    "    classified[vertex] = 1\n",
    "    area = internal_weights[vertex]\n",
    "    \n",
    "    while (sum(classified) < n): \n",
    "        temp_perimeter = perimeter - 2*internal_weights + degrees\n",
    "        temp_area = area + internal_weights\n",
    "        ratios = temp_area / (temp_perimeter + 0.000001) \n",
    "        next_vertex = np.argmax(ratios * np.logical_not(classified))\n",
    "        this_alpha = (area*temp_perimeter[next_vertex])/(perimeter*temp_area[next_vertex]) \n",
    "        if(this_alpha > alpha):\n",
    "            break\n",
    "        classified[next_vertex] = 1\n",
    "        internal_weights += graph[next_vertex]\n",
    "        perimeter = temp_perimeter[next_vertex]\n",
    "        area = temp_area[next_vertex]\n",
    "\n",
    "    return classified\n",
    "            \n",
    "A = np.array([[0,1,1,0,0,0],[1,0,1,0,0,0],[1,1,0,1,0,0],[0,0,1,0,1,1],[0,0,0,1,0,1],[0,0,0,1,1,0]])\n",
    "this_cluster = cluster(0,A) \n",
    "this_cluster"
   ]
  },
  {
   "cell_type": "code",
   "execution_count": 5,
   "metadata": {
    "collapsed": false
   },
   "outputs": [
    {
     "data": {
      "text/plain": [
       "array([ 1.,  1.,  1.,  0.,  0.,  0.])"
      ]
     },
     "execution_count": 5,
     "metadata": {},
     "output_type": "execute_result"
    }
   ],
   "source": [
    "def cluster2(vertex, graph, alpha = 0.5, classified = None):\n",
    "    n = graph.shape[0]  \n",
    "    if(classified is None):\n",
    "        classified = np.zeros(n)\n",
    "    else:\n",
    "        assert(len(classified) == n), \"Length of classified does not match size of graph.\"\n",
    "        classified = classified.astype(int)\n",
    "        \n",
    "    internal_weights = graph[vertex].astype(float) \n",
    "    degrees = np.sum(graph, axis = 1)\n",
    "    perimeter = np.sum(internal_weights)      \n",
    "    classified[vertex] = 1\n",
    "    area = internal_weights[vertex]\n",
    "    \n",
    "    while (sum(classified) < n): \n",
    "        temp_perimeter = perimeter - 2*internal_weights + degrees\n",
    "        temp_area = area + internal_weights\n",
    "        ratios = internal_weights/(degrees - internal_weights + 0.000001)\n",
    "        next_vertex = np.argmax(ratios * np.logical_not(classified))\n",
    "\n",
    "        if((1.0-alpha) * perimeter * (temp_area[next_vertex]-area) \\\n",
    "           < alpha * area * (temp_perimeter[next_vertex]-perimeter)):\n",
    "            break\n",
    "\n",
    "        classified[next_vertex] = 1\n",
    "        internal_weights += graph[next_vertex]\n",
    "        perimeter = temp_perimeter[next_vertex]\n",
    "        area = temp_area[next_vertex]\n",
    "\n",
    "    return classified\n",
    "            \n",
    "A = np.array([[0,1,1,0,0,0],[1,0,1,0,0,0],[1,1,0,1,0,0],[0,0,1,0,1,1],[0,0,0,1,0,1],[0,0,0,1,1,0]])\n",
    "this_cluster = cluster2(0,A) \n",
    "this_cluster"
   ]
  },
  {
   "cell_type": "markdown",
   "metadata": {},
   "source": [
    "From a user's perspective the only difference in these two algorithms is the range of $\\alpha$.\n",
    "\n",
    "In my algorithm, defined as cluster, $\\alpha$ takes a range from 0 to infinity. Small values will generate small clusters, while large values will generate a single large cluster spanning all nodes.\n",
    "\n",
    "In Haley's algorithm, defined as cluster2, $\\alpha$ takes a range from 0 to 1. Small values will generate large clusters spanning all nodes, and values close to 1 will generate small clusters.\n",
    "\n",
    "In Haley's original algorithm, the starting node was always the unclassified node with the highest degree on the graph. I've suppressed that. That means that the user has to supply the starting node (labeled as vertex in the arguments to the function).\n",
    "\n",
    "Unlike Haley's original algorithm, both of these functions stop after finding one and only one cluster. This leaves the user with a couple of choices after finding the first cluster. If the user is interested in finding overlapping communities, then the user simply should run the clustering algorithm again on one of the unclassified nodes. If the user is interested in finding distinct, non-overlapping clusters, then the user should put the classified nodes found from the first community into the \"classified\" argument to the function. However, the user will need to be aware that the algorithm will return a vector with both the original nodes and the new nodes labeled as classified. Below, I've given an example of how to use the classified argument."
   ]
  },
  {
   "cell_type": "code",
   "execution_count": 6,
   "metadata": {
    "collapsed": false
   },
   "outputs": [
    {
     "name": "stdout",
     "output_type": "stream",
     "text": [
      "Populating the interactive namespace from numpy and matplotlib\n"
     ]
    }
   ],
   "source": [
    "%pylab inline"
   ]
  },
  {
   "cell_type": "code",
   "execution_count": 7,
   "metadata": {
    "collapsed": false
   },
   "outputs": [
    {
     "data": {
      "image/png": "[encoded data removed]",
      "text/plain": [
       "<matplotlib.figure.Figure at 0xaef8394c>"
      ]
     },
     "metadata": {},
     "output_type": "display_data"
    }
   ],
   "source": [
    "np.random.seed(145)\n",
    "n = 160\n",
    "x = randn(2*n).reshape(n,2)\n",
    "for i in range(n//2,n):\n",
    "    x[i][0] += 3\n",
    "    x[i][1] += 3\n",
    "def gauss_sim(x,y, sigma = 1):\n",
    "    d = (x[0]-y[0])**2 + (x[1] - y[1])**2\n",
    "    return np.exp(-d/(2*sigma))\n",
    "adjacency = [[0 for i in range(n)] for j in range(n)]\n",
    "for i in range(n):\n",
    "    for j in range(i+1,n):\n",
    "        g_s = gauss_sim(x[i],x[j])\n",
    "        adjacency[i][j] = g_s\n",
    "        adjacency[j][i] = g_s\n",
    "scatter(x[:,0],x[:,1]);"
   ]
  },
  {
   "cell_type": "markdown",
   "metadata": {},
   "source": [
    "Here is the example of using classified. And we use Haley's method of starting with the node with the highest degree.\n",
    "\n",
    "We first cluster around one node, which returns us c1, then we find the node with the highest degree that has not already been classified.\n",
    "\n",
    "We then cluster again around the new starting node, but we supply the previously clustered results to the \"classified\" argument (Again this is only necessary if you absolutely do not want overlapping clusters).\n",
    "\n",
    "This returns us a new vector, but it is the vector of <b>all</b> classified points. So to find out what new points were classifeid, we must subtract c1 from c2."
   ]
  },
  {
   "cell_type": "code",
   "execution_count": 8,
   "metadata": {
    "collapsed": false
   },
   "outputs": [
    {
     "data": {
      "image/png": "[encoded data removed]",
      "text/plain": [
       "<matplotlib.figure.Figure at 0xaef710ec>"
      ]
     },
     "metadata": {},
     "output_type": "display_data"
    }
   ],
   "source": [
    "start = argmax(sum(adjacency,axis=1))\n",
    "c1 = cluster2(start, np.array(adjacency))\n",
    "start = argmax(sum(adjacency,axis=1)*np.logical_not(c1))\n",
    "c2 = cluster2(start, np.array(adjacency), classified=c1)\n",
    "c2 = c2 - c1\n",
    "\n",
    "for i in range(len(c1)):\n",
    "    if((c1[i] == 1) and (c2[i] == 0)):\n",
    "        scatter(x[i][0], x[i][1], color=\"red\")\n",
    "    elif((c1[i] == 0) and (c2[i] == 1)):\n",
    "        scatter(x[i][0], x[i][1], color=\"blue\")\n",
    "    else:\n",
    "        scatter(x[i][0], x[i][1], color=\"black\")\n",
    "    "
   ]
  },
  {
   "cell_type": "markdown",
   "metadata": {},
   "source": [
    "We can also simply skip that classified step to see the overlap:"
   ]
  },
  {
   "cell_type": "code",
   "execution_count": 9,
   "metadata": {
    "collapsed": false
   },
   "outputs": [
    {
     "data": {
      "image/png": "[encoded data removed]",
      "text/plain": [
       "<matplotlib.figure.Figure at 0xaeeb680c>"
      ]
     },
     "metadata": {},
     "output_type": "display_data"
    }
   ],
   "source": [
    "start = argmax(sum(adjacency,axis=1))\n",
    "c1 = cluster2(start, np.array(adjacency))\n",
    "start = argmax(sum(adjacency,axis=1)*np.logical_not(c1))\n",
    "c2 = cluster2(start, np.array(adjacency))\n",
    "\n",
    "for i in range(len(c1)):\n",
    "    if((c1[i] == 1) and (c2[i] == 0)):\n",
    "        scatter(x[i][0], x[i][1], color=\"red\")\n",
    "    elif((c1[i] == 0) and (c2[i] == 1)):\n",
    "        scatter(x[i][0], x[i][1], color=\"blue\")\n",
    "    else:\n",
    "        scatter(x[i][0], x[i][1], color=\"black\")"
   ]
  },
  {
   "cell_type": "markdown",
   "metadata": {},
   "source": [
    "And as we can see there are a few nodes that were claimed by both clusters.\n",
    "\n",
    "Finally, I want to mention that there is a mathematical <b>bug</b> in both algorithms. Both algorithms assume that the graph is symmetric. However, when using K-nearest neighbors to generate the adjacency matrix, it is highly possible that asymmetries are introduced. If, however, the user uses the full adjacency matrix as I have done above then the adjacency matrix will be symmetric. "
   ]
  }
 ],
 "metadata": {
  "kernelspec": {
   "display_name": "Python 3",
   "language": "python",
   "name": "python3"
  },
  "language_info": {
   "codemirror_mode": {
    "name": "ipython",
    "version": 3
   },
   "file_extension": ".py",
   "mimetype": "text/x-python",
   "name": "python",
   "nbconvert_exporter": "python",
   "pygments_lexer": "ipython3",
   "version": "3.4.4"
  }
 },
 "nbformat": 4,
 "nbformat_minor": 0
}
