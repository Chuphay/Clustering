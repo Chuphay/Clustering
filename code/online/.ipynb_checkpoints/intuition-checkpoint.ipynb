{
 "cells": [
  {
   "cell_type": "code",
   "execution_count": 1,
   "metadata": {
    "collapsed": false
   },
   "outputs": [
    {
     "name": "stdout",
     "output_type": "stream",
     "text": [
      "Populating the interactive namespace from numpy and matplotlib\n"
     ]
    }
   ],
   "source": [
    "%pylab inline\n",
    "import networkx as nx"
   ]
  },
  {
   "cell_type": "code",
   "execution_count": 2,
   "metadata": {
    "collapsed": false
   },
   "outputs": [
    {
     "data": {
      "image/png": "[encoded data removed]",
      "text/plain": [
       "<matplotlib.figure.Figure at 0xb04ca02c>"
      ]
     },
     "metadata": {},
     "output_type": "display_data"
    }
   ],
   "source": [
    "a = array([[0,1,1],[1,0,0],[1,0,0]])\n",
    "G = nx.Graph(a)\n",
    "nx.draw(G)"
   ]
  },
  {
   "cell_type": "code",
   "execution_count": 74,
   "metadata": {
    "collapsed": false
   },
   "outputs": [
    {
     "data": {
      "image/png": "[encoded data removed]",
      "text/plain": [
       "<matplotlib.figure.Figure at 0xb0479f2c>"
      ]
     },
     "metadata": {},
     "output_type": "display_data"
    }
   ],
   "source": [
    "a = [\"a b c\", \"b a c\", \"c a b d\",\"d c e f\",\"e d f\",\"f d e\"]\n",
    "G = nx.parse_adjlist(a)\n",
    "nx.draw(G)"
   ]
  },
  {
   "cell_type": "code",
   "execution_count": 75,
   "metadata": {
    "collapsed": false
   },
   "outputs": [
    {
     "data": {
      "text/plain": [
       "array([[ 0.,  0.,  1.,  1.,  0.,  0.],\n",
       "       [ 0.,  0.,  0.,  0.,  1.,  1.],\n",
       "       [ 1.,  0.,  0.,  1.,  1.,  0.],\n",
       "       [ 1.,  0.,  1.,  0.,  0.,  0.],\n",
       "       [ 0.,  1.,  1.,  0.,  0.,  1.],\n",
       "       [ 0.,  1.,  0.,  0.,  1.,  0.]])"
      ]
     },
     "execution_count": 75,
     "metadata": {},
     "output_type": "execute_result"
    }
   ],
   "source": [
    "A = array(nx.adjacency_matrix(G))\n",
    "A"
   ]
  },
  {
   "cell_type": "code",
   "execution_count": 104,
   "metadata": {
    "collapsed": false
   },
   "outputs": [
    {
     "name": "stdout",
     "output_type": "stream",
     "text": [
      "4 0.479166666667\n",
      "this alpha 0.0\n",
      "5 2.16666666667\n",
      "this alpha 0.221153846154\n",
      "0 5.625\n",
      "this alpha 0.385185185185\n",
      "0 -25.5\n",
      "this alpha -0.220588235294\n",
      "0 -4.75\n",
      "this alpha 5.36842105263\n"
     ]
    },
    {
     "data": {
      "text/plain": [
       "array([ 0.,  0.,  1.,  1.,  0.,  0.])"
      ]
     },
     "execution_count": 104,
     "metadata": {},
     "output_type": "execute_result"
    }
   ],
   "source": [
    "def cluster(vertex, graph, alpha, area = 0):\n",
    "    n = graph.shape[0]\n",
    "    internal_weights = graph[vertex]\n",
    "    degrees = sum(graph, axis = 1)\n",
    "    perimeter = sum(internal_weights)\n",
    "    assert(perimeter == degrees[vertex]), \"Error\"\n",
    "    unclassified = ones(n)\n",
    "    unclassified[vertex] = 0\n",
    "    \n",
    "    while True:\n",
    "        temp_perimeter = perimeter - 2*internal_weights + degrees\n",
    "        temp_area = area + internal_weights\n",
    "        ratios = temp_area / temp_perimeter  \n",
    "        next_vertex = np.argmax(ratios * unclassified)\n",
    "        print(next_vertex, ratios[next_vertex])\n",
    "        this_alpha = (area/perimeter)/ratios[next_vertex]\n",
    "        print(\"this alpha\",this_alpha)\n",
    "        if(this_alpha > alpha):\n",
    "            break\n",
    "        unclassified[next_vertex] = 0;\n",
    "        internal_weights += graph[next_vertex];\n",
    "        perimeter = temp_perimeter[next_vertex];\n",
    "        area = temp_area[next_vertex];\n",
    "    return unclassified\n",
    "            \n",
    "\n",
    "\n",
    "cluster(1,A,1)           "
   ]
  },
  {
   "cell_type": "code",
   "execution_count": 62,
   "metadata": {
    "collapsed": false
   },
   "outputs": [
    {
     "ename": "IndentationError",
     "evalue": "unexpected indent (<ipython-input-62-89333cad3f5f>, line 27)",
     "output_type": "error",
     "traceback": [
      "\u001b[1;36m  File \u001b[1;32m\"<ipython-input-62-89333cad3f5f>\"\u001b[1;36m, line \u001b[1;32m27\u001b[0m\n\u001b[1;33m    \"\"\"\u001b[0m\n\u001b[1;37m    ^\u001b[0m\n\u001b[1;31mIndentationError\u001b[0m\u001b[1;31m:\u001b[0m unexpected indent\n"
     ]
    }
   ],
   "source": [
    "            \"\"\"        \n",
    "         internalW = data.W(:,seed);       %keeps track of all edges in or coming out of the cluster\n",
    "    perimeter = data.D(seed);         %the size of the current perimeter\n",
    "    area = 0;                         %the size of the current area \n",
    "    unclassified = ones(data.N,1);    %indicator for unclassified vertices\n",
    "\n",
    "    unclassified(seed) = 0; \n",
    "\n",
    "    for i = 1:(data.N - 1) %we minus 1, because the seed is already classified  \n",
    "\n",
    "        temp_perimeter = perimeter - 2*internalW + data.D;\n",
    "        temp_area = area + internalW;\n",
    "    \n",
    "        ratios = temp_area ./ temp_perimeter;  \n",
    "        [a, new_node] = max((ratios+1) .* unclassified); %we add 1 to the ratio... \n",
    "\n",
    "        if((1.0-alpha) * perimeter * (temp_area(new_node) - area) ...\n",
    "                >= alpha * area * (temp_perimeter(new_node) - perimeter))\n",
    "\n",
    "\t    unclassified(new_node) = 0;\n",
    "            internalW = internalW + data.W(:, new_node);\n",
    "            perimeter = temp_perimeter(new_node);\n",
    "            area = temp_area(new_node);\n",
    "\telse\n",
    "            break\n",
    "        endif\n",
    "    endfor\n",
    "\"\"\"\n",
    "            \n",
    "\n",
    " "
   ]
  },
  {
   "cell_type": "code",
   "execution_count": null,
   "metadata": {
    "collapsed": true
   },
   "outputs": [],
   "source": []
  }
 ],
 "metadata": {
  "kernelspec": {
   "display_name": "Python 3",
   "language": "python",
   "name": "python3"
  },
  "language_info": {
   "codemirror_mode": {
    "name": "ipython",
    "version": 3
   },
   "file_extension": ".py",
   "mimetype": "text/x-python",
   "name": "python",
   "nbconvert_exporter": "python",
   "pygments_lexer": "ipython3",
   "version": "3.4.1"
  }
 },
 "nbformat": 4,
 "nbformat_minor": 0
}
