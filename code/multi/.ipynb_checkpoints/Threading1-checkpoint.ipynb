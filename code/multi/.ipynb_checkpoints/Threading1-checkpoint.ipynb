{
 "cells": [
  {
   "cell_type": "code",
   "execution_count": 1,
   "metadata": {
    "collapsed": false
   },
   "outputs": [
    {
     "name": "stdout",
     "output_type": "stream",
     "text": [
      "Populating the interactive namespace from numpy and matplotlib\n"
     ]
    }
   ],
   "source": [
    "%pylab inline"
   ]
  },
  {
   "cell_type": "code",
   "execution_count": 2,
   "metadata": {
    "collapsed": false
   },
   "outputs": [
    {
     "data": {
      "text/plain": [
       "array([1, 1, 1, 0, 0, 0])"
      ]
     },
     "execution_count": 2,
     "metadata": {},
     "output_type": "execute_result"
    }
   ],
   "source": [
    "def cluster(vertex, graph, alpha = 1, classified = None):\n",
    "    n = graph.shape[0]  \n",
    "    if(classified is None):\n",
    "        classified = zeros(n)\n",
    "    else:\n",
    "        assert(len(classified) == n), \"Length of classified does not match size of graph.\"\n",
    "        \n",
    "    internal_weights = graph[vertex].astype(float)    \n",
    "    degrees = sum(graph, axis = 1)\n",
    "    perimeter = sum(internal_weights)      \n",
    "    classified[vertex] = 1\n",
    "    area = internal_weights[vertex]\n",
    "    \n",
    "    while (sum(classified) < n): \n",
    "        temp_perimeter = perimeter - 2*internal_weights + degrees\n",
    "        temp_area = area + internal_weights\n",
    "        ratios = temp_area / (temp_perimeter + 0.000001) \n",
    "        next_vertex = np.argmax(ratios * np.logical_not(classified))\n",
    "        this_alpha = (area*temp_perimeter[next_vertex])/(perimeter*temp_area[next_vertex]) \n",
    "        if(this_alpha > alpha):\n",
    "            break\n",
    "        classified[next_vertex] = 1\n",
    "        internal_weights += graph[next_vertex]\n",
    "        perimeter = temp_perimeter[next_vertex]\n",
    "        area = temp_area[next_vertex]\n",
    "\n",
    "    return classified\n",
    "            \n",
    "A = array([[0,1,1,0,0,0],[1,0,1,0,0,0],[1,1,0,1,0,0],[0,0,1,0,1,1],[0,0,0,1,0,1],[0,0,0,1,1,0]])\n",
    "this_cluster = cluster(0,A,1, array([0,0,0,0,0,0])) \n",
    "this_cluster"
   ]
  },
  {
   "cell_type": "code",
   "execution_count": 4,
   "metadata": {
    "collapsed": false
   },
   "outputs": [],
   "source": [
    "def heron(a):\n",
    "    \"\"\"Calculates the square root of a\"\"\"\n",
    "    eps = 0.0000001\n",
    "    old = 1\n",
    "    new = 1\n",
    "    while True:\n",
    "        old,new = new, (new + a/new) / 2.0\n",
    "        if abs(new - old) < eps:\n",
    "            break\n",
    "    print(new)        \n",
    "    return new"
   ]
  },
  {
   "cell_type": "code",
   "execution_count": 10,
   "metadata": {
    "collapsed": false
   },
   "outputs": [
    {
     "name": "stdout",
     "output_type": "stream",
     "text": [
      "32.357379374726875\n",
      "63.348243858847425\n",
      "2.000000000000002\n"
     ]
    }
   ],
   "source": [
    "from threading import Thread\n",
    "Thread(target=heron, args = (1047,)).start()\n",
    "Thread(target=heron, args = (4013,)).start()\n",
    "Thread(target=heron, args = (4,)).start()"
   ]
  },
  {
   "cell_type": "code",
   "execution_count": 12,
   "metadata": {
    "collapsed": false
   },
   "outputs": [
    {
     "name": "stdout",
     "output_type": "stream",
     "text": [
      "Starting thread Thread-1\n",
      "Starting thread Thread-2\n",
      "Thread-1: Mon May 23 09:30:47 2016\n",
      "Thread-2: Mon May 23 09:30:48 2016\n",
      "Thread-1: Mon May 23 09:30:48 2016\n",
      "Thread-1: Mon May 23 09:30:49 2016\n",
      "Thread-2: Mon May 23 09:30:50 2016\n",
      "Thread-1: Mon May 23 09:30:50 2016\n",
      "Thread-1: Mon May 23 09:30:51 2016\n",
      "Exiting Thread-1\n",
      "Thread-2: Mon May 23 09:30:52 2016\n",
      "Thread-2: Mon May 23 09:30:54 2016\n",
      "Thread-2: Mon May 23 09:30:56 2016\n",
      "Exiting Thread-2\n",
      "Exiting Main Thread\n"
     ]
    }
   ],
   "source": [
    "import time\n",
    "\n",
    "\n",
    "class myThread(Thread):\n",
    "    def __init__(self, threadID, name, counter):\n",
    "        Thread.__init__(self)\n",
    "        self.threadID = threadID\n",
    "        self.name = name\n",
    "        self.counter = counter\n",
    "    def run(self):\n",
    "        print(\"Starting thread \"+self.name)\n",
    "        print_time(self.name, self.counter, 5)\n",
    "        print (\"Exiting \" + self.name)\n",
    "        \n",
    "        \n",
    "exitFlag = 0\n",
    "\n",
    "def print_time(threadName, delay, counter):\n",
    "    while counter:\n",
    "        if exitFlag:\n",
    "            threadName.exit()\n",
    "        time.sleep(delay)\n",
    "        print (\"%s: %s\" % (threadName, time.ctime(time.time())))\n",
    "        counter -= 1\n",
    "\n",
    "# Create new threads\n",
    "thread1 = myThread(1, \"Thread-1\", 1)\n",
    "thread2 = myThread(2, \"Thread-2\", 2)\n",
    "\n",
    "# Start new Threads\n",
    "thread1.start()\n",
    "thread2.start()\n",
    "thread1.join()\n",
    "thread2.join()\n",
    "print (\"Exiting Main Thread\")"
   ]
  },
  {
   "cell_type": "code",
   "execution_count": 13,
   "metadata": {
    "collapsed": true
   },
   "outputs": [],
   "source": [
    "from threading import Lock"
   ]
  },
  {
   "cell_type": "code",
   "execution_count": 18,
   "metadata": {
    "collapsed": false
   },
   "outputs": [
    {
     "name": "stdout",
     "output_type": "stream",
     "text": [
      "9.9498743710662\n",
      "31.606961258558215\n",
      "41.6293165929973\n"
     ]
    }
   ],
   "source": [
    "num_threads = 0\n",
    "thread_started = False\n",
    "lock = Lock()\n",
    "def heron2(a):\n",
    "    global num_threads, thread_started\n",
    "    lock.acquire()\n",
    "    num_threads += 1\n",
    "    thread_started = True\n",
    "    lock.release()\n",
    "    eps = 0.0000001\n",
    "    old = 1\n",
    "    new = 1\n",
    "    while True:\n",
    "        old,new = new, (new + a/new) / 2.0\n",
    "        if abs(new - old) < eps:\n",
    "            break\n",
    "\n",
    "\n",
    "    lock.acquire()\n",
    "    num_threads -= 1\n",
    "    lock.release()\n",
    "    print(new)\n",
    "    return new\n",
    "\n",
    "Thread(target = heron2, args = (99,)).start()\n",
    "Thread(target = heron2, args = (999,)).start()\n",
    "Thread(target = heron2, args = (1733,)).start()\n",
    "\n",
    "while not thread_started:\n",
    "    pass\n",
    "while num_threads > 0:\n",
    "    print(\"Are we actually here?\")\n",
    "    #So what's the point if we never get here\n",
    "    pass"
   ]
  },
  {
   "cell_type": "code",
   "execution_count": 21,
   "metadata": {
    "collapsed": false
   },
   "outputs": [
    {
     "name": "stdout",
     "output_type": "stream",
     "text": [
      "thread 0 sleeps for 2 seconds\n",
      "thread 1 sleeps for 2 seconds\n",
      "thread 2 sleeps for 2 seconds\n",
      "thread 3 sleeps for 2 seconds\n",
      "thread 4 sleeps for 2 seconds\n",
      "thread 5 sleeps for 2 seconds\n",
      "thread 6 sleeps for 2 seconds\n",
      "thread 7 sleeps for 2 seconds\n",
      "thread 8 sleeps for 2 seconds\n",
      "thread 9 sleeps for 2 seconds\n",
      "thread 0 woke up\n",
      "thread 3 woke up\n",
      "thread 1 woke up\n",
      "thread 4 woke up\n",
      "thread 2 woke up\n",
      "thread 5 woke up\n",
      "thread 6 woke up\n",
      "thread 8 woke up\n",
      "thread 7 woke up\n",
      "thread 9 woke up\n"
     ]
    }
   ],
   "source": [
    "def sleeper(i):\n",
    "    print (\"thread %d sleeps for 2 seconds\" % i)\n",
    "    time.sleep(2)\n",
    "    print (\"thread %d woke up\" % i)\n",
    "\n",
    "for i in range(10):\n",
    "    t = Thread(target=sleeper, args=(i,))\n",
    "    t.start()"
   ]
  },
  {
   "cell_type": "code",
   "execution_count": null,
   "metadata": {
    "collapsed": true
   },
   "outputs": [],
   "source": []
  },
  {
   "cell_type": "code",
   "execution_count": null,
   "metadata": {
    "collapsed": true
   },
   "outputs": [],
   "source": []
  },
  {
   "cell_type": "code",
   "execution_count": null,
   "metadata": {
    "collapsed": true
   },
   "outputs": [],
   "source": []
  },
  {
   "cell_type": "code",
   "execution_count": null,
   "metadata": {
    "collapsed": true
   },
   "outputs": [],
   "source": []
  }
 ],
 "metadata": {
  "kernelspec": {
   "display_name": "Python 3",
   "language": "python",
   "name": "python3"
  },
  "language_info": {
   "codemirror_mode": {
    "name": "ipython",
    "version": 3
   },
   "file_extension": ".py",
   "mimetype": "text/x-python",
   "name": "python",
   "nbconvert_exporter": "python",
   "pygments_lexer": "ipython3",
   "version": "3.4.4"
  }
 },
 "nbformat": 4,
 "nbformat_minor": 0
}
